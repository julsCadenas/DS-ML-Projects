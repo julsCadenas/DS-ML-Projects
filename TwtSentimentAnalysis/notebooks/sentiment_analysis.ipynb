{
  "cells": [
    {
      "cell_type": "markdown",
      "id": "8861846a",
      "metadata": {
        "id": "8861846a"
      },
      "source": [
        "# **Sentiment Analysis on Tweets**\n",
        "Sentiment analysis, also known as opinion mining, is the process of identifying and categorizing emotions expressed in text data—typically as positive, negative, or neutral. It helps organizations and individuals understand the sentiment behind user-generated content, such as product reviews, social media posts, or customer feedback.\n",
        "\n",
        "In the context of social media, sentiment analysis is particularly valuable due to the vast amount of real-time user opinions shared daily. Twitter, with its concise and public messages, provides an ideal dataset for analyzing public sentiment around topics, events, brands, or products.\n",
        "\n",
        "By leveraging natural language processing (NLP) techniques and machine learning models, sentiment analysis can extract insights from tweets to support business decisions, brand monitoring, political analysis, and crisis management.\n",
        "\n",
        "This project focuses on building a sentiment classifier using a dataset of tweets. The model aims to classify each tweet as positive or negative, helping reveal how people feel about certain topics at scale.\n",
        "\n",
        "<br>\n",
        "\n",
        "**Dataset:** [Kaggle Sentiment140](https://www.kaggle.com/datasets/kazanova/sentiment140/data)\n",
        "\n",
        "---"
      ]
    },
    {
      "cell_type": "markdown",
      "id": "e6cfb6e2",
      "metadata": {
        "id": "e6cfb6e2"
      },
      "source": [
        "## **Data Preprocessing**"
      ]
    },
    {
      "cell_type": "code",
      "execution_count": 16,
      "id": "15b62c3e",
      "metadata": {
        "colab": {
          "base_uri": "https://localhost:8080/"
        },
        "id": "15b62c3e",
        "outputId": "32208a2c-9142-4cbf-da29-ba4d2126856d"
      },
      "outputs": [
        {
          "name": "stderr",
          "output_type": "stream",
          "text": [
            "[nltk_data] Downloading package punkt_tab to\n",
            "[nltk_data]     C:\\Users\\Juls\\AppData\\Roaming\\nltk_data...\n",
            "[nltk_data]   Package punkt_tab is already up-to-date!\n",
            "[nltk_data] Downloading package punkt to\n",
            "[nltk_data]     C:\\Users\\Juls\\AppData\\Roaming\\nltk_data...\n",
            "[nltk_data]   Package punkt is already up-to-date!\n",
            "[nltk_data] Downloading package stopwords to\n",
            "[nltk_data]     C:\\Users\\Juls\\AppData\\Roaming\\nltk_data...\n",
            "[nltk_data]   Package stopwords is already up-to-date!\n",
            "[nltk_data] Downloading package wordnet to\n",
            "[nltk_data]     C:\\Users\\Juls\\AppData\\Roaming\\nltk_data...\n",
            "[nltk_data]   Package wordnet is already up-to-date!\n",
            "[nltk_data] Downloading package omw-1.4 to\n",
            "[nltk_data]     C:\\Users\\Juls\\AppData\\Roaming\\nltk_data...\n",
            "[nltk_data]   Package omw-1.4 is already up-to-date!\n"
          ]
        }
      ],
      "source": [
        "import pandas as pd\n",
        "import numpy as np\n",
        "import matplotlib.pyplot as plt\n",
        "import seaborn as sns\n",
        "import emoji\n",
        "import re\n",
        "import nltk\n",
        "import tensorflow as tf\n",
        "\n",
        "from nltk.corpus import stopwords\n",
        "from nltk.stem import PorterStemmer, WordNetLemmatizer\n",
        "\n",
        "from sklearn.metrics import accuracy_score, precision_score, recall_score, f1_score\n",
        "from sklearn.metrics import classification_report, confusion_matrix\n",
        "from sklearn.model_selection import train_test_split\n",
        "\n",
        "nltk.download('punkt_tab')\n",
        "nltk.download('punkt')\n",
        "nltk.download('stopwords')\n",
        "nltk.download('wordnet')\n",
        "nltk.download('omw-1.4')\n",
        "\n",
        "stop_words = set(stopwords.words('english'))\n",
        "stemmer = PorterStemmer()\n",
        "lemmatizer = WordNetLemmatizer()"
      ]
    },
    {
      "cell_type": "markdown",
      "id": "7b84aa2d",
      "metadata": {
        "id": "7b84aa2d"
      },
      "source": [
        "Prepare the dataset."
      ]
    },
    {
      "cell_type": "code",
      "execution_count": 17,
      "id": "d63041c7",
      "metadata": {
        "colab": {
          "base_uri": "https://localhost:8080/",
          "height": 206
        },
        "id": "d63041c7",
        "outputId": "fc79032f-5ad2-4b3c-ffe9-087690a9235a"
      },
      "outputs": [
        {
          "data": {
            "text/html": [
              "<div>\n",
              "<style scoped>\n",
              "    .dataframe tbody tr th:only-of-type {\n",
              "        vertical-align: middle;\n",
              "    }\n",
              "\n",
              "    .dataframe tbody tr th {\n",
              "        vertical-align: top;\n",
              "    }\n",
              "\n",
              "    .dataframe thead th {\n",
              "        text-align: right;\n",
              "    }\n",
              "</style>\n",
              "<table border=\"1\" class=\"dataframe\">\n",
              "  <thead>\n",
              "    <tr style=\"text-align: right;\">\n",
              "      <th></th>\n",
              "      <th>sentiment</th>\n",
              "      <th>id</th>\n",
              "      <th>date</th>\n",
              "      <th>flag</th>\n",
              "      <th>user</th>\n",
              "      <th>text</th>\n",
              "    </tr>\n",
              "  </thead>\n",
              "  <tbody>\n",
              "    <tr>\n",
              "      <th>0</th>\n",
              "      <td>0</td>\n",
              "      <td>1467810369</td>\n",
              "      <td>Mon Apr 06 22:19:45 PDT 2009</td>\n",
              "      <td>NO_QUERY</td>\n",
              "      <td>_TheSpecialOne_</td>\n",
              "      <td>@switchfoot http://twitpic.com/2y1zl - Awww, t...</td>\n",
              "    </tr>\n",
              "    <tr>\n",
              "      <th>1</th>\n",
              "      <td>0</td>\n",
              "      <td>1467810672</td>\n",
              "      <td>Mon Apr 06 22:19:49 PDT 2009</td>\n",
              "      <td>NO_QUERY</td>\n",
              "      <td>scotthamilton</td>\n",
              "      <td>is upset that he can't update his Facebook by ...</td>\n",
              "    </tr>\n",
              "    <tr>\n",
              "      <th>2</th>\n",
              "      <td>0</td>\n",
              "      <td>1467810917</td>\n",
              "      <td>Mon Apr 06 22:19:53 PDT 2009</td>\n",
              "      <td>NO_QUERY</td>\n",
              "      <td>mattycus</td>\n",
              "      <td>@Kenichan I dived many times for the ball. Man...</td>\n",
              "    </tr>\n",
              "    <tr>\n",
              "      <th>3</th>\n",
              "      <td>0</td>\n",
              "      <td>1467811184</td>\n",
              "      <td>Mon Apr 06 22:19:57 PDT 2009</td>\n",
              "      <td>NO_QUERY</td>\n",
              "      <td>ElleCTF</td>\n",
              "      <td>my whole body feels itchy and like its on fire</td>\n",
              "    </tr>\n",
              "    <tr>\n",
              "      <th>4</th>\n",
              "      <td>0</td>\n",
              "      <td>1467811193</td>\n",
              "      <td>Mon Apr 06 22:19:57 PDT 2009</td>\n",
              "      <td>NO_QUERY</td>\n",
              "      <td>Karoli</td>\n",
              "      <td>@nationwideclass no, it's not behaving at all....</td>\n",
              "    </tr>\n",
              "  </tbody>\n",
              "</table>\n",
              "</div>"
            ],
            "text/plain": [
              "   sentiment          id                          date      flag  \\\n",
              "0          0  1467810369  Mon Apr 06 22:19:45 PDT 2009  NO_QUERY   \n",
              "1          0  1467810672  Mon Apr 06 22:19:49 PDT 2009  NO_QUERY   \n",
              "2          0  1467810917  Mon Apr 06 22:19:53 PDT 2009  NO_QUERY   \n",
              "3          0  1467811184  Mon Apr 06 22:19:57 PDT 2009  NO_QUERY   \n",
              "4          0  1467811193  Mon Apr 06 22:19:57 PDT 2009  NO_QUERY   \n",
              "\n",
              "              user                                               text  \n",
              "0  _TheSpecialOne_  @switchfoot http://twitpic.com/2y1zl - Awww, t...  \n",
              "1    scotthamilton  is upset that he can't update his Facebook by ...  \n",
              "2         mattycus  @Kenichan I dived many times for the ball. Man...  \n",
              "3          ElleCTF    my whole body feels itchy and like its on fire   \n",
              "4           Karoli  @nationwideclass no, it's not behaving at all....  "
            ]
          },
          "execution_count": 17,
          "metadata": {},
          "output_type": "execute_result"
        }
      ],
      "source": [
        "dataset_path = '../data/twt.csv'\n",
        "column_names = ['sentiment', 'id', 'date', 'flag', 'user', 'text']\n",
        "df = pd.read_csv(dataset_path, encoding='latin', delimiter=',', names=column_names)\n",
        "df.head()"
      ]
    },
    {
      "cell_type": "markdown",
      "id": "8f3f5c7f",
      "metadata": {
        "id": "8f3f5c7f"
      },
      "source": [
        "Drop unimportant columns and missing values."
      ]
    },
    {
      "cell_type": "code",
      "execution_count": 18,
      "id": "ec68813b",
      "metadata": {
        "colab": {
          "base_uri": "https://localhost:8080/",
          "height": 206
        },
        "id": "ec68813b",
        "outputId": "1a959055-e930-4097-9b86-45963b54a9f7"
      },
      "outputs": [
        {
          "data": {
            "text/html": [
              "<div>\n",
              "<style scoped>\n",
              "    .dataframe tbody tr th:only-of-type {\n",
              "        vertical-align: middle;\n",
              "    }\n",
              "\n",
              "    .dataframe tbody tr th {\n",
              "        vertical-align: top;\n",
              "    }\n",
              "\n",
              "    .dataframe thead th {\n",
              "        text-align: right;\n",
              "    }\n",
              "</style>\n",
              "<table border=\"1\" class=\"dataframe\">\n",
              "  <thead>\n",
              "    <tr style=\"text-align: right;\">\n",
              "      <th></th>\n",
              "      <th>sentiment</th>\n",
              "      <th>text</th>\n",
              "    </tr>\n",
              "  </thead>\n",
              "  <tbody>\n",
              "    <tr>\n",
              "      <th>0</th>\n",
              "      <td>0</td>\n",
              "      <td>@switchfoot http://twitpic.com/2y1zl - Awww, t...</td>\n",
              "    </tr>\n",
              "    <tr>\n",
              "      <th>1</th>\n",
              "      <td>0</td>\n",
              "      <td>is upset that he can't update his Facebook by ...</td>\n",
              "    </tr>\n",
              "    <tr>\n",
              "      <th>2</th>\n",
              "      <td>0</td>\n",
              "      <td>@Kenichan I dived many times for the ball. Man...</td>\n",
              "    </tr>\n",
              "    <tr>\n",
              "      <th>3</th>\n",
              "      <td>0</td>\n",
              "      <td>my whole body feels itchy and like its on fire</td>\n",
              "    </tr>\n",
              "    <tr>\n",
              "      <th>4</th>\n",
              "      <td>0</td>\n",
              "      <td>@nationwideclass no, it's not behaving at all....</td>\n",
              "    </tr>\n",
              "  </tbody>\n",
              "</table>\n",
              "</div>"
            ],
            "text/plain": [
              "   sentiment                                               text\n",
              "0          0  @switchfoot http://twitpic.com/2y1zl - Awww, t...\n",
              "1          0  is upset that he can't update his Facebook by ...\n",
              "2          0  @Kenichan I dived many times for the ball. Man...\n",
              "3          0    my whole body feels itchy and like its on fire \n",
              "4          0  @nationwideclass no, it's not behaving at all...."
            ]
          },
          "execution_count": 18,
          "metadata": {},
          "output_type": "execute_result"
        }
      ],
      "source": [
        "df = df.drop(['id', 'date', 'flag', 'user'], axis=1)\n",
        "df = df.dropna()\n",
        "df.head()"
      ]
    },
    {
      "cell_type": "markdown",
      "id": "a3d47b10",
      "metadata": {
        "id": "a3d47b10"
      },
      "source": [
        "### Preprocess the data:\n",
        "- convert the emojis into text\n",
        "- lowercase everything\n",
        "- remove urls, mentions and hashtags\n",
        "- remove punctuations and special characters\n",
        "- remove stopwords\n",
        "- split into tokens"
      ]
    },
    {
      "cell_type": "code",
      "execution_count": 19,
      "id": "d29ad00d",
      "metadata": {
        "colab": {
          "base_uri": "https://localhost:8080/"
        },
        "id": "d29ad00d",
        "outputId": "31edf4b3-893e-431b-e228-2c7eb9dcf1e1"
      },
      "outputs": [
        {
          "name": "stdout",
          "output_type": "stream",
          "text": [
            "Sample stopwords being removed:\n",
            "['were', \"mustn't\", 'doing', 'up', 'y', 'no', \"couldn't\", 'having', 'before', \"didn't\", 'then', 'him', \"he'll\", \"i'm\", \"needn't\", 'the', 'which', 'weren', 'am', 'should', 'mightn', 'in', 'myself', 'very', 'below', 'ain', \"you're\", 'ourselves', 'those', 'couldn', 'between', 'theirs', 'to', \"she'd\", 'further', 'only', 'won', 'her', 'over', 'by', 't', \"weren't\", 'your', 'this', 'his', 'own', \"shan't\", 'aren', 'against', 'will', \"i'll\", \"he's\", 'above', \"it's\", 'themselves', 'through', 'of', 'they', \"that'll\", 'most', 'few', 'itself', \"we're\", 'just', 'any', 'but', 'wasn', \"you'd\", 'so', 'these', \"it'd\", 'you', 'at', \"haven't\", 'm', 'and', 'have', 'hers', 'why', 'mustn', 'where', 'don', 'has', 'isn', 'll', 'ours', \"shouldn't\", 'such', 'd', 'did', 'off', 'what', 'haven', 'about', \"they'd\", 'we', \"you'll\", 'nor', 'an', 'being', 'out', 'same', 'under', 'our', \"mightn't\", 'does', 'was', \"they're\", 'some', \"they'll\", 'are', \"she'll\", 'yourself', 'for', 'o', 'both', \"i'd\", \"isn't\", 'from', 'it', 'all', 'more', 'do', 'be', \"should've\", 'hadn', 'yourselves', 's', 'there', 'until', 'me', \"he'd\", 'a', \"aren't\", 'hasn', 'other', 'ma', 'she', 'that', 'its', 'once', 'them', 've', \"wouldn't\", 'down', \"won't\", 'after', \"she's\", 'now', 'not', 'is', 'can', 'during', 'doesn', 'whom', 'their', 'i', 'how', 'if', \"we'd\", 'because', 'didn', 'or', \"wasn't\", 'wouldn', \"don't\", \"i've\", 'shouldn', 'needn', 'each', \"it'll\", 'when', 'my', 'too', 'who', 'shan', \"hasn't\", \"we've\", 'he', 'himself', \"doesn't\", 'again', 'been', 'yours', 'with', 'while', 'as', \"they've\", 'herself', \"hadn't\", 'on', \"you've\", 'here', 're', \"we'll\", 'than', 'had', 'into']\n"
          ]
        }
      ],
      "source": [
        "print(\"Sample stopwords being removed:\")\n",
        "print(list(stop_words))"
      ]
    },
    {
      "cell_type": "code",
      "execution_count": 20,
      "id": "05d9ac6b",
      "metadata": {
        "id": "05d9ac6b"
      },
      "outputs": [],
      "source": [
        "sentiment_critical = {\n",
        "    'not', 'no', 'never', 'nothing', 'nobody', 'none', 'nowhere', 'neither',\n",
        "    'very', 'really', 'quite', 'rather', 'extremely', 'incredibly', 'absolutely',\n",
        "    'but', 'however', 'although', 'though', 'yet', 'except',\n",
        "    'too', 'so', 'such', 'more', 'most', 'less', 'least',\n",
        "    'only', 'just', 'still', 'even', 'again'\n",
        "}\n",
        "\n",
        "negative_contractions = {\n",
        "    \"don't\", \"won't\", \"can't\", \"shouldn't\", \"wouldn't\", \"couldn't\",\n",
        "    \"isn't\", \"aren't\", \"wasn't\", \"weren't\", \"hasn't\", \"haven't\",\n",
        "    \"hadn't\", \"doesn't\", \"didn't\", \"won't\", \"shan't\", \"mustn't\",\n",
        "    \"mightn't\", \"needn't\"\n",
        "}\n",
        "\n",
        "sentiment_critical.update(negative_contractions)"
      ]
    },
    {
      "cell_type": "code",
      "execution_count": 21,
      "id": "85851427",
      "metadata": {
        "id": "85851427"
      },
      "outputs": [],
      "source": [
        "def clean_twts(twt):\n",
        "    twt = twt.lower()\n",
        "    twt = re.sub(r\"http\\S+|www\\S+|https\\S+\", '', twt)  # remove urls\n",
        "    twt = re.sub(r\"@\\w+\", '', twt)  # remove mentions\n",
        "    twt = re.sub(r\"#\", '', twt)  # remove hashtag symbol\n",
        "    twt = emoji.replace_emoji(twt, replace='')  # remove emojis\n",
        "    twt = re.sub(r\"[^a-zA-Z\\s']\", '', twt)  # remove punctuation\n",
        "    twt = re.sub(r\"\\s+\", ' ', twt).strip()  # clean whitespace\n",
        "\n",
        "    tokens = twt.split()\n",
        "    tokens = [word for word in tokens if (word not in stop_words or word in sentiment_critical) and len(word) > 1] # remove stopwords and keep sentiment-critical words\n",
        "    tokens = [lemmatizer.lemmatize(word) for word in tokens]  # lemmatize\n",
        "\n",
        "    return ' '.join(tokens)\n",
        "\n",
        "cleaned_twts = df['text'].apply(clean_twts)\n",
        "df['cleaned_text'] = cleaned_twts"
      ]
    },
    {
      "cell_type": "code",
      "execution_count": 22,
      "id": "f4fb2ee0",
      "metadata": {
        "colab": {
          "base_uri": "https://localhost:8080/",
          "height": 206
        },
        "id": "f4fb2ee0",
        "outputId": "59654c9a-39ff-4297-e313-f1b70d88d969"
      },
      "outputs": [
        {
          "data": {
            "text/html": [
              "<div>\n",
              "<style scoped>\n",
              "    .dataframe tbody tr th:only-of-type {\n",
              "        vertical-align: middle;\n",
              "    }\n",
              "\n",
              "    .dataframe tbody tr th {\n",
              "        vertical-align: top;\n",
              "    }\n",
              "\n",
              "    .dataframe thead th {\n",
              "        text-align: right;\n",
              "    }\n",
              "</style>\n",
              "<table border=\"1\" class=\"dataframe\">\n",
              "  <thead>\n",
              "    <tr style=\"text-align: right;\">\n",
              "      <th></th>\n",
              "      <th>sentiment</th>\n",
              "      <th>text</th>\n",
              "      <th>cleaned_text</th>\n",
              "    </tr>\n",
              "  </thead>\n",
              "  <tbody>\n",
              "    <tr>\n",
              "      <th>0</th>\n",
              "      <td>0</td>\n",
              "      <td>@switchfoot http://twitpic.com/2y1zl - Awww, t...</td>\n",
              "      <td>that's bummer shoulda got david carr third day</td>\n",
              "    </tr>\n",
              "    <tr>\n",
              "      <th>1</th>\n",
              "      <td>0</td>\n",
              "      <td>is upset that he can't update his Facebook by ...</td>\n",
              "      <td>upset can't update facebook texting might cry ...</td>\n",
              "    </tr>\n",
              "    <tr>\n",
              "      <th>2</th>\n",
              "      <td>0</td>\n",
              "      <td>@Kenichan I dived many times for the ball. Man...</td>\n",
              "      <td>dived many time ball managed save rest go bound</td>\n",
              "    </tr>\n",
              "    <tr>\n",
              "      <th>3</th>\n",
              "      <td>0</td>\n",
              "      <td>my whole body feels itchy and like its on fire</td>\n",
              "      <td>whole body feel itchy like fire</td>\n",
              "    </tr>\n",
              "    <tr>\n",
              "      <th>4</th>\n",
              "      <td>0</td>\n",
              "      <td>@nationwideclass no, it's not behaving at all....</td>\n",
              "      <td>no not behaving mad can't see</td>\n",
              "    </tr>\n",
              "  </tbody>\n",
              "</table>\n",
              "</div>"
            ],
            "text/plain": [
              "   sentiment                                               text  \\\n",
              "0          0  @switchfoot http://twitpic.com/2y1zl - Awww, t...   \n",
              "1          0  is upset that he can't update his Facebook by ...   \n",
              "2          0  @Kenichan I dived many times for the ball. Man...   \n",
              "3          0    my whole body feels itchy and like its on fire    \n",
              "4          0  @nationwideclass no, it's not behaving at all....   \n",
              "\n",
              "                                        cleaned_text  \n",
              "0     that's bummer shoulda got david carr third day  \n",
              "1  upset can't update facebook texting might cry ...  \n",
              "2    dived many time ball managed save rest go bound  \n",
              "3                    whole body feel itchy like fire  \n",
              "4                      no not behaving mad can't see  "
            ]
          },
          "execution_count": 22,
          "metadata": {},
          "output_type": "execute_result"
        }
      ],
      "source": [
        "df.head()"
      ]
    },
    {
      "cell_type": "code",
      "execution_count": 23,
      "id": "18876e91",
      "metadata": {
        "colab": {
          "base_uri": "https://localhost:8080/"
        },
        "id": "18876e91",
        "outputId": "09184eb7-4301-4c54-b26e-7e5fc593fb1e"
      },
      "outputs": [
        {
          "name": "stdout",
          "output_type": "stream",
          "text": [
            "Average length: 7.42\n",
            "95th percentile: 15.00\n"
          ]
        }
      ],
      "source": [
        "# Check average tweet length after preprocessing\n",
        "lengths = [len(text.split()) for text in cleaned_twts]\n",
        "print(f\"Average length: {np.mean(lengths):.2f}\")\n",
        "print(f\"95th percentile: {np.percentile(lengths, 95):.2f}\")"
      ]
    },
    {
      "cell_type": "markdown",
      "id": "81367f15",
      "metadata": {
        "id": "81367f15"
      },
      "source": [
        "Tokenize the data."
      ]
    },
    {
      "cell_type": "code",
      "execution_count": 24,
      "id": "5b5e8e8b",
      "metadata": {
        "colab": {
          "base_uri": "https://localhost:8080/"
        },
        "id": "5b5e8e8b",
        "outputId": "b2bf89aa-1b2e-4af9-c43c-f9c45298f708"
      },
      "outputs": [
        {
          "name": "stdout",
          "output_type": "stream",
          "text": [
            "Tokenized and padded sequences:\n",
            "[[  82 1059 3184 ...    0    0    0]\n",
            " [ 641   28  292 ...    0    0    0]\n",
            " [   1  222   17 ...    0    0    0]\n",
            " ...\n",
            " [ 131 7273 6824 ...    0    0    0]\n",
            " [  63  205  179 ...    0    0    0]\n",
            " [  63    1    0 ...    0    0    0]]\n"
          ]
        }
      ],
      "source": [
        "tokenizer = tf.keras.preprocessing.text.Tokenizer(num_words=10000, oov_token=\"<OOV>\")\n",
        "tokenizer.fit_on_texts(cleaned_twts)\n",
        "sequences = tokenizer.texts_to_sequences(cleaned_twts)\n",
        "padded_sequences = tf.keras.preprocessing.sequence.pad_sequences(sequences, maxlen=20, padding='post', truncating='post')\n",
        "\n",
        "print(\"Tokenized and padded sequences:\")\n",
        "print(padded_sequences)"
      ]
    },
    {
      "cell_type": "markdown",
      "id": "d46cda5e",
      "metadata": {
        "id": "d46cda5e"
      },
      "source": [
        "Add into the dataframe."
      ]
    },
    {
      "cell_type": "code",
      "execution_count": 25,
      "id": "8e0d291f",
      "metadata": {
        "colab": {
          "base_uri": "https://localhost:8080/",
          "height": 206
        },
        "id": "8e0d291f",
        "outputId": "08c0a964-25ac-4000-8621-ded2f869aacc"
      },
      "outputs": [
        {
          "data": {
            "text/html": [
              "<div>\n",
              "<style scoped>\n",
              "    .dataframe tbody tr th:only-of-type {\n",
              "        vertical-align: middle;\n",
              "    }\n",
              "\n",
              "    .dataframe tbody tr th {\n",
              "        vertical-align: top;\n",
              "    }\n",
              "\n",
              "    .dataframe thead th {\n",
              "        text-align: right;\n",
              "    }\n",
              "</style>\n",
              "<table border=\"1\" class=\"dataframe\">\n",
              "  <thead>\n",
              "    <tr style=\"text-align: right;\">\n",
              "      <th></th>\n",
              "      <th>sentiment</th>\n",
              "      <th>text</th>\n",
              "      <th>cleaned_text</th>\n",
              "      <th>padded_text</th>\n",
              "    </tr>\n",
              "  </thead>\n",
              "  <tbody>\n",
              "    <tr>\n",
              "      <th>0</th>\n",
              "      <td>0</td>\n",
              "      <td>@switchfoot http://twitpic.com/2y1zl - Awww, t...</td>\n",
              "      <td>that's bummer shoulda got david carr third day</td>\n",
              "      <td>[82, 1059, 3184, 18, 735, 8889, 1695, 6, 0, 0,...</td>\n",
              "    </tr>\n",
              "    <tr>\n",
              "      <th>1</th>\n",
              "      <td>0</td>\n",
              "      <td>is upset that he can't update his Facebook by ...</td>\n",
              "      <td>upset can't update facebook texting might cry ...</td>\n",
              "      <td>[641, 28, 292, 445, 1855, 198, 290, 987, 86, 1...</td>\n",
              "    </tr>\n",
              "    <tr>\n",
              "      <th>2</th>\n",
              "      <td>0</td>\n",
              "      <td>@Kenichan I dived many times for the ball. Man...</td>\n",
              "      <td>dived many time ball managed save rest go bound</td>\n",
              "      <td>[1, 222, 17, 861, 1480, 747, 368, 10, 2921, 0,...</td>\n",
              "    </tr>\n",
              "    <tr>\n",
              "      <th>3</th>\n",
              "      <td>0</td>\n",
              "      <td>my whole body feels itchy and like its on fire</td>\n",
              "      <td>whole body feel itchy like fire</td>\n",
              "      <td>[329, 674, 43, 2669, 9, 999, 0, 0, 0, 0, 0, 0,...</td>\n",
              "    </tr>\n",
              "    <tr>\n",
              "      <th>4</th>\n",
              "      <td>0</td>\n",
              "      <td>@nationwideclass no, it's not behaving at all....</td>\n",
              "      <td>no not behaving mad can't see</td>\n",
              "      <td>[11, 5, 9422, 487, 28, 27, 0, 0, 0, 0, 0, 0, 0...</td>\n",
              "    </tr>\n",
              "  </tbody>\n",
              "</table>\n",
              "</div>"
            ],
            "text/plain": [
              "   sentiment                                               text  \\\n",
              "0          0  @switchfoot http://twitpic.com/2y1zl - Awww, t...   \n",
              "1          0  is upset that he can't update his Facebook by ...   \n",
              "2          0  @Kenichan I dived many times for the ball. Man...   \n",
              "3          0    my whole body feels itchy and like its on fire    \n",
              "4          0  @nationwideclass no, it's not behaving at all....   \n",
              "\n",
              "                                        cleaned_text  \\\n",
              "0     that's bummer shoulda got david carr third day   \n",
              "1  upset can't update facebook texting might cry ...   \n",
              "2    dived many time ball managed save rest go bound   \n",
              "3                    whole body feel itchy like fire   \n",
              "4                      no not behaving mad can't see   \n",
              "\n",
              "                                         padded_text  \n",
              "0  [82, 1059, 3184, 18, 735, 8889, 1695, 6, 0, 0,...  \n",
              "1  [641, 28, 292, 445, 1855, 198, 290, 987, 86, 1...  \n",
              "2  [1, 222, 17, 861, 1480, 747, 368, 10, 2921, 0,...  \n",
              "3  [329, 674, 43, 2669, 9, 999, 0, 0, 0, 0, 0, 0,...  \n",
              "4  [11, 5, 9422, 487, 28, 27, 0, 0, 0, 0, 0, 0, 0...  "
            ]
          },
          "execution_count": 25,
          "metadata": {},
          "output_type": "execute_result"
        }
      ],
      "source": [
        "df['padded_text'] = list(padded_sequences)\n",
        "df['sentiment'] = df['sentiment'].map({4: 1, 0: 0})\n",
        "df.head()"
      ]
    },
    {
      "cell_type": "markdown",
      "id": "54b07005",
      "metadata": {
        "id": "54b07005"
      },
      "source": [
        "Split the dataset."
      ]
    },
    {
      "cell_type": "code",
      "execution_count": 26,
      "id": "70cedc07",
      "metadata": {
        "id": "70cedc07"
      },
      "outputs": [],
      "source": [
        "x = padded_sequences\n",
        "y = df['sentiment']\n",
        "\n",
        "\n",
        "x_train, x_temp, y_train, y_temp = train_test_split(x, y, test_size=0.4, random_state=42)\n",
        "\n",
        "x_val, x_test, y_val, y_test = train_test_split(x_temp, y_temp, test_size=0.5, random_state=42)"
      ]
    },
    {
      "cell_type": "code",
      "execution_count": 27,
      "id": "124a0d0d",
      "metadata": {},
      "outputs": [],
      "source": [
        "best_params = {\n",
        "    'lstm_units': 256,\n",
        "    'dropout_rate': 0.6,\n",
        "    'dense_units': 128,\n",
        "    'embedding_dim': 128,\n",
        "}\n",
        "\n",
        "model = tf.keras.Sequential([\n",
        "    tf.keras.layers.Embedding(input_dim=10000, output_dim=best_params['embedding_dim']),\n",
        "    tf.keras.layers.LSTM(best_params['lstm_units'], dropout=best_params['dropout_rate']),\n",
        "    tf.keras.layers.Dense(best_params['dense_units'], activation='relu'),\n",
        "    tf.keras.layers.Dense(1, activation='sigmoid')\n",
        "])"
      ]
    },
    {
      "cell_type": "code",
      "execution_count": 28,
      "id": "a6060276",
      "metadata": {
        "id": "a6060276"
      },
      "outputs": [],
      "source": [
        "model.compile(loss='binary_crossentropy',\n",
        "              optimizer='adam',\n",
        "              metrics=['accuracy'])\n",
        "\n",
        "model.build(input_shape=(None,20))"
      ]
    },
    {
      "cell_type": "code",
      "execution_count": 29,
      "id": "058e6fd9",
      "metadata": {
        "colab": {
          "base_uri": "https://localhost:8080/",
          "height": 306
        },
        "id": "058e6fd9",
        "outputId": "22a672fe-5a72-4094-b5c5-f053b766fa92"
      },
      "outputs": [
        {
          "data": {
            "text/html": [
              "<pre style=\"white-space:pre;overflow-x:auto;line-height:normal;font-family:Menlo,'DejaVu Sans Mono',consolas,'Courier New',monospace\"><span style=\"font-weight: bold\">Model: \"sequential_1\"</span>\n",
              "</pre>\n"
            ],
            "text/plain": [
              "\u001b[1mModel: \"sequential_1\"\u001b[0m\n"
            ]
          },
          "metadata": {},
          "output_type": "display_data"
        },
        {
          "data": {
            "text/html": [
              "<pre style=\"white-space:pre;overflow-x:auto;line-height:normal;font-family:Menlo,'DejaVu Sans Mono',consolas,'Courier New',monospace\">┏━━━━━━━━━━━━━━━━━━━━━━━━━━━━━━━━━┳━━━━━━━━━━━━━━━━━━━━━━━━┳━━━━━━━━━━━━━━━┓\n",
              "┃<span style=\"font-weight: bold\"> Layer (type)                    </span>┃<span style=\"font-weight: bold\"> Output Shape           </span>┃<span style=\"font-weight: bold\">       Param # </span>┃\n",
              "┡━━━━━━━━━━━━━━━━━━━━━━━━━━━━━━━━━╇━━━━━━━━━━━━━━━━━━━━━━━━╇━━━━━━━━━━━━━━━┩\n",
              "│ embedding_1 (<span style=\"color: #0087ff; text-decoration-color: #0087ff\">Embedding</span>)         │ (<span style=\"color: #00d7ff; text-decoration-color: #00d7ff\">None</span>, <span style=\"color: #00af00; text-decoration-color: #00af00\">20</span>, <span style=\"color: #00af00; text-decoration-color: #00af00\">128</span>)        │     <span style=\"color: #00af00; text-decoration-color: #00af00\">1,280,000</span> │\n",
              "├─────────────────────────────────┼────────────────────────┼───────────────┤\n",
              "│ lstm_1 (<span style=\"color: #0087ff; text-decoration-color: #0087ff\">LSTM</span>)                   │ (<span style=\"color: #00d7ff; text-decoration-color: #00d7ff\">None</span>, <span style=\"color: #00af00; text-decoration-color: #00af00\">256</span>)            │       <span style=\"color: #00af00; text-decoration-color: #00af00\">394,240</span> │\n",
              "├─────────────────────────────────┼────────────────────────┼───────────────┤\n",
              "│ dense_2 (<span style=\"color: #0087ff; text-decoration-color: #0087ff\">Dense</span>)                 │ (<span style=\"color: #00d7ff; text-decoration-color: #00d7ff\">None</span>, <span style=\"color: #00af00; text-decoration-color: #00af00\">128</span>)            │        <span style=\"color: #00af00; text-decoration-color: #00af00\">32,896</span> │\n",
              "├─────────────────────────────────┼────────────────────────┼───────────────┤\n",
              "│ dense_3 (<span style=\"color: #0087ff; text-decoration-color: #0087ff\">Dense</span>)                 │ (<span style=\"color: #00d7ff; text-decoration-color: #00d7ff\">None</span>, <span style=\"color: #00af00; text-decoration-color: #00af00\">1</span>)              │           <span style=\"color: #00af00; text-decoration-color: #00af00\">129</span> │\n",
              "└─────────────────────────────────┴────────────────────────┴───────────────┘\n",
              "</pre>\n"
            ],
            "text/plain": [
              "┏━━━━━━━━━━━━━━━━━━━━━━━━━━━━━━━━━┳━━━━━━━━━━━━━━━━━━━━━━━━┳━━━━━━━━━━━━━━━┓\n",
              "┃\u001b[1m \u001b[0m\u001b[1mLayer (type)                   \u001b[0m\u001b[1m \u001b[0m┃\u001b[1m \u001b[0m\u001b[1mOutput Shape          \u001b[0m\u001b[1m \u001b[0m┃\u001b[1m \u001b[0m\u001b[1m      Param #\u001b[0m\u001b[1m \u001b[0m┃\n",
              "┡━━━━━━━━━━━━━━━━━━━━━━━━━━━━━━━━━╇━━━━━━━━━━━━━━━━━━━━━━━━╇━━━━━━━━━━━━━━━┩\n",
              "│ embedding_1 (\u001b[38;5;33mEmbedding\u001b[0m)         │ (\u001b[38;5;45mNone\u001b[0m, \u001b[38;5;34m20\u001b[0m, \u001b[38;5;34m128\u001b[0m)        │     \u001b[38;5;34m1,280,000\u001b[0m │\n",
              "├─────────────────────────────────┼────────────────────────┼───────────────┤\n",
              "│ lstm_1 (\u001b[38;5;33mLSTM\u001b[0m)                   │ (\u001b[38;5;45mNone\u001b[0m, \u001b[38;5;34m256\u001b[0m)            │       \u001b[38;5;34m394,240\u001b[0m │\n",
              "├─────────────────────────────────┼────────────────────────┼───────────────┤\n",
              "│ dense_2 (\u001b[38;5;33mDense\u001b[0m)                 │ (\u001b[38;5;45mNone\u001b[0m, \u001b[38;5;34m128\u001b[0m)            │        \u001b[38;5;34m32,896\u001b[0m │\n",
              "├─────────────────────────────────┼────────────────────────┼───────────────┤\n",
              "│ dense_3 (\u001b[38;5;33mDense\u001b[0m)                 │ (\u001b[38;5;45mNone\u001b[0m, \u001b[38;5;34m1\u001b[0m)              │           \u001b[38;5;34m129\u001b[0m │\n",
              "└─────────────────────────────────┴────────────────────────┴───────────────┘\n"
            ]
          },
          "metadata": {},
          "output_type": "display_data"
        },
        {
          "data": {
            "text/html": [
              "<pre style=\"white-space:pre;overflow-x:auto;line-height:normal;font-family:Menlo,'DejaVu Sans Mono',consolas,'Courier New',monospace\"><span style=\"font-weight: bold\"> Total params: </span><span style=\"color: #00af00; text-decoration-color: #00af00\">1,707,265</span> (6.51 MB)\n",
              "</pre>\n"
            ],
            "text/plain": [
              "\u001b[1m Total params: \u001b[0m\u001b[38;5;34m1,707,265\u001b[0m (6.51 MB)\n"
            ]
          },
          "metadata": {},
          "output_type": "display_data"
        },
        {
          "data": {
            "text/html": [
              "<pre style=\"white-space:pre;overflow-x:auto;line-height:normal;font-family:Menlo,'DejaVu Sans Mono',consolas,'Courier New',monospace\"><span style=\"font-weight: bold\"> Trainable params: </span><span style=\"color: #00af00; text-decoration-color: #00af00\">1,707,265</span> (6.51 MB)\n",
              "</pre>\n"
            ],
            "text/plain": [
              "\u001b[1m Trainable params: \u001b[0m\u001b[38;5;34m1,707,265\u001b[0m (6.51 MB)\n"
            ]
          },
          "metadata": {},
          "output_type": "display_data"
        },
        {
          "data": {
            "text/html": [
              "<pre style=\"white-space:pre;overflow-x:auto;line-height:normal;font-family:Menlo,'DejaVu Sans Mono',consolas,'Courier New',monospace\"><span style=\"font-weight: bold\"> Non-trainable params: </span><span style=\"color: #00af00; text-decoration-color: #00af00\">0</span> (0.00 B)\n",
              "</pre>\n"
            ],
            "text/plain": [
              "\u001b[1m Non-trainable params: \u001b[0m\u001b[38;5;34m0\u001b[0m (0.00 B)\n"
            ]
          },
          "metadata": {},
          "output_type": "display_data"
        }
      ],
      "source": [
        "model.summary()"
      ]
    },
    {
      "cell_type": "code",
      "execution_count": 30,
      "id": "885e8d99",
      "metadata": {
        "colab": {
          "base_uri": "https://localhost:8080/"
        },
        "id": "885e8d99",
        "outputId": "b97a1237-5035-4318-a851-171b1e837b0a"
      },
      "outputs": [
        {
          "name": "stdout",
          "output_type": "stream",
          "text": [
            "Epoch 1/16\n",
            "\u001b[1m30000/30000\u001b[0m \u001b[32m━━━━━━━━━━━━━━━━━━━━\u001b[0m\u001b[37m\u001b[0m \u001b[1m994s\u001b[0m 33ms/step - accuracy: 0.7683 - loss: 0.4796 - val_accuracy: 0.8045 - val_loss: 0.4220\n",
            "Epoch 2/16\n",
            "\u001b[1m30000/30000\u001b[0m \u001b[32m━━━━━━━━━━━━━━━━━━━━\u001b[0m\u001b[37m\u001b[0m \u001b[1m1005s\u001b[0m 34ms/step - accuracy: 0.8073 - loss: 0.4180 - val_accuracy: 0.8098 - val_loss: 0.4121\n",
            "Epoch 3/16\n",
            "\u001b[1m30000/30000\u001b[0m \u001b[32m━━━━━━━━━━━━━━━━━━━━\u001b[0m\u001b[37m\u001b[0m \u001b[1m1029s\u001b[0m 34ms/step - accuracy: 0.8125 - loss: 0.4087 - val_accuracy: 0.8106 - val_loss: 0.4123\n",
            "Epoch 4/16\n",
            "\u001b[1m30000/30000\u001b[0m \u001b[32m━━━━━━━━━━━━━━━━━━━━\u001b[0m\u001b[37m\u001b[0m \u001b[1m949s\u001b[0m 32ms/step - accuracy: 0.8154 - loss: 0.4036 - val_accuracy: 0.8116 - val_loss: 0.4095\n",
            "Epoch 5/16\n",
            "\u001b[1m30000/30000\u001b[0m \u001b[32m━━━━━━━━━━━━━━━━━━━━\u001b[0m\u001b[37m\u001b[0m \u001b[1m865s\u001b[0m 29ms/step - accuracy: 0.8174 - loss: 0.4011 - val_accuracy: 0.8111 - val_loss: 0.4109\n",
            "Epoch 6/16\n",
            "\u001b[1m30000/30000\u001b[0m \u001b[32m━━━━━━━━━━━━━━━━━━━━\u001b[0m\u001b[37m\u001b[0m \u001b[1m990s\u001b[0m 33ms/step - accuracy: 0.8182 - loss: 0.3981 - val_accuracy: 0.8127 - val_loss: 0.4119\n",
            "Epoch 7/16\n",
            "\u001b[1m30000/30000\u001b[0m \u001b[32m━━━━━━━━━━━━━━━━━━━━\u001b[0m\u001b[37m\u001b[0m \u001b[1m1074s\u001b[0m 36ms/step - accuracy: 0.8198 - loss: 0.3972 - val_accuracy: 0.8118 - val_loss: 0.4140\n",
            "Epoch 8/16\n",
            "\u001b[1m30000/30000\u001b[0m \u001b[32m━━━━━━━━━━━━━━━━━━━━\u001b[0m\u001b[37m\u001b[0m \u001b[1m1012s\u001b[0m 34ms/step - accuracy: 0.8204 - loss: 0.3957 - val_accuracy: 0.8122 - val_loss: 0.4123\n",
            "Epoch 9/16\n",
            "\u001b[1m30000/30000\u001b[0m \u001b[32m━━━━━━━━━━━━━━━━━━━━\u001b[0m\u001b[37m\u001b[0m \u001b[1m1110s\u001b[0m 37ms/step - accuracy: 0.8205 - loss: 0.3961 - val_accuracy: 0.8125 - val_loss: 0.4104\n",
            "Epoch 10/16\n",
            "\u001b[1m30000/30000\u001b[0m \u001b[32m━━━━━━━━━━━━━━━━━━━━\u001b[0m\u001b[37m\u001b[0m \u001b[1m1041s\u001b[0m 35ms/step - accuracy: 0.8198 - loss: 0.3967 - val_accuracy: 0.8129 - val_loss: 0.4112\n",
            "Epoch 11/16\n",
            "\u001b[1m30000/30000\u001b[0m \u001b[32m━━━━━━━━━━━━━━━━━━━━\u001b[0m\u001b[37m\u001b[0m \u001b[1m1092s\u001b[0m 36ms/step - accuracy: 0.8200 - loss: 0.3959 - val_accuracy: 0.8124 - val_loss: 0.4151\n",
            "Epoch 12/16\n",
            "\u001b[1m30000/30000\u001b[0m \u001b[32m━━━━━━━━━━━━━━━━━━━━\u001b[0m\u001b[37m\u001b[0m \u001b[1m1120s\u001b[0m 37ms/step - accuracy: 0.8209 - loss: 0.3952 - val_accuracy: 0.8124 - val_loss: 0.4112\n",
            "Epoch 13/16\n",
            "\u001b[1m30000/30000\u001b[0m \u001b[32m━━━━━━━━━━━━━━━━━━━━\u001b[0m\u001b[37m\u001b[0m \u001b[1m1053s\u001b[0m 35ms/step - accuracy: 0.8209 - loss: 0.3951 - val_accuracy: 0.8115 - val_loss: 0.4118\n",
            "Epoch 14/16\n",
            "\u001b[1m30000/30000\u001b[0m \u001b[32m━━━━━━━━━━━━━━━━━━━━\u001b[0m\u001b[37m\u001b[0m \u001b[1m1061s\u001b[0m 35ms/step - accuracy: 0.8208 - loss: 0.3954 - val_accuracy: 0.8120 - val_loss: 0.4124\n",
            "Epoch 15/16\n",
            "\u001b[1m30000/30000\u001b[0m \u001b[32m━━━━━━━━━━━━━━━━━━━━\u001b[0m\u001b[37m\u001b[0m \u001b[1m1034s\u001b[0m 34ms/step - accuracy: 0.8205 - loss: 0.3949 - val_accuracy: 0.8119 - val_loss: 0.4135\n",
            "Epoch 16/16\n",
            "\u001b[1m30000/30000\u001b[0m \u001b[32m━━━━━━━━━━━━━━━━━━━━\u001b[0m\u001b[37m\u001b[0m \u001b[1m1039s\u001b[0m 35ms/step - accuracy: 0.8211 - loss: 0.3949 - val_accuracy: 0.8120 - val_loss: 0.4128\n"
          ]
        }
      ],
      "source": [
        "history = model.fit(\n",
        "    x_train, y_train,\n",
        "    epochs=16,\n",
        "    batch_size=32,\n",
        "    validation_data=(x_val, y_val)\n",
        ")"
      ]
    },
    {
      "cell_type": "code",
      "execution_count": 31,
      "id": "ffb96554",
      "metadata": {
        "colab": {
          "base_uri": "https://localhost:8080/",
          "height": 452
        },
        "id": "ffb96554",
        "outputId": "94d24651-790e-45af-bdd3-16dbc9a93829"
      },
      "outputs": [
        {
          "data": {
            "image/png": "[encoded data removed]",
            "text/plain": [
              "<Figure size 640x480 with 1 Axes>"
            ]
          },
          "metadata": {},
          "output_type": "display_data"
        }
      ],
      "source": [
        "plt.plot(history.history['accuracy'], label='train acc')\n",
        "plt.plot(history.history['val_accuracy'], label='val acc')\n",
        "plt.legend()\n",
        "plt.title(\"Model Accuracy\")\n",
        "plt.show()"
      ]
    },
    {
      "cell_type": "code",
      "execution_count": 32,
      "id": "1f557021",
      "metadata": {
        "colab": {
          "base_uri": "https://localhost:8080/"
        },
        "id": "1f557021",
        "outputId": "c35bfe44-d8d4-413f-f395-b243ddbe9e3a"
      },
      "outputs": [
        {
          "name": "stdout",
          "output_type": "stream",
          "text": [
            "\u001b[1m10000/10000\u001b[0m \u001b[32m━━━━━━━━━━━━━━━━━━━━\u001b[0m\u001b[37m\u001b[0m \u001b[1m123s\u001b[0m 12ms/step\n"
          ]
        }
      ],
      "source": [
        "preds = model.predict(x_test)\n",
        "preds_binary = (preds > 0.5).astype(int).flatten()"
      ]
    },
    {
      "cell_type": "code",
      "execution_count": 33,
      "id": "e71cb88f",
      "metadata": {
        "colab": {
          "base_uri": "https://localhost:8080/"
        },
        "id": "e71cb88f",
        "outputId": "5e91bf90-3a13-42d8-b20f-c3ec7b84bc61"
      },
      "outputs": [
        {
          "name": "stdout",
          "output_type": "stream",
          "text": [
            "Classification Report:\n",
            "              precision    recall  f1-score   support\n",
            "\n",
            "           0       0.81      0.81      0.81    159790\n",
            "           1       0.81      0.81      0.81    160210\n",
            "\n",
            "    accuracy                           0.81    320000\n",
            "   macro avg       0.81      0.81      0.81    320000\n",
            "weighted avg       0.81      0.81      0.81    320000\n",
            "\n",
            "\n",
            "Confusion Matrix:\n",
            "[[129887  29903]\n",
            " [ 30509 129701]]\n"
          ]
        }
      ],
      "source": [
        "print(\"Classification Report:\")\n",
        "print(classification_report(y_test, preds_binary))\n",
        "print(\"\\nConfusion Matrix:\")\n",
        "print(confusion_matrix(y_test, preds_binary))"
      ]
    },
    {
      "cell_type": "code",
      "execution_count": 34,
      "id": "030e30be",
      "metadata": {
        "colab": {
          "base_uri": "https://localhost:8080/"
        },
        "id": "030e30be",
        "outputId": "ba565e8d-e72f-4752-95a5-a764d20b57f2"
      },
      "outputs": [
        {
          "name": "stdout",
          "output_type": "stream",
          "text": [
            "\n",
            "Accuracy: 0.8112\n",
            "Precision: 0.8126\n",
            "Recall: 0.8096\n",
            "F1-Score: 0.8111\n"
          ]
        }
      ],
      "source": [
        "print(f\"\\nAccuracy: {accuracy_score(y_test, preds_binary):.4f}\")\n",
        "print(f\"Precision: {precision_score(y_test, preds_binary):.4f}\")\n",
        "print(f\"Recall: {recall_score(y_test, preds_binary):.4f}\")\n",
        "print(f\"F1-Score: {f1_score(y_test, preds_binary):.4f}\")"
      ]
    },
    {
      "cell_type": "code",
      "execution_count": 35,
      "id": "0032cc8b",
      "metadata": {
        "colab": {
          "base_uri": "https://localhost:8080/",
          "height": 472
        },
        "id": "0032cc8b",
        "outputId": "3e0dcfd4-c3df-4433-96c1-f31dea9593cc"
      },
      "outputs": [
        {
          "data": {
            "image/png": "[encoded data removed]",
            "text/plain": [
              "<Figure size 640x480 with 2 Axes>"
            ]
          },
          "metadata": {},
          "output_type": "display_data"
        }
      ],
      "source": [
        "cm = confusion_matrix(y_test, preds_binary)\n",
        "sns.heatmap(cm, annot=True, fmt='d', cmap='Blues',\n",
        "            xticklabels=['Negative', 'Positive'],\n",
        "            yticklabels=['Negative', 'Positive'])\n",
        "plt.xlabel('Predicted')\n",
        "plt.ylabel('Actual')\n",
        "plt.title('Confusion Matrix')\n",
        "plt.show()"
      ]
    },
    {
      "cell_type": "markdown",
      "id": "9c38be90",
      "metadata": {
        "id": "9c38be90"
      },
      "source": [
        "---\n",
        "\n",
        "**Initial training results:** the model can be improved. Will try again.  \n",
        "**Second attempt:** model improved slightly. Will try again.  \n",
        "**Third attempt:** tried adding more epochs and batches. Will try again.  \n",
        "**Fourth attempt:** used lemmatization, better results. Will try again.\n",
        "**Fifth attempt:** improved stopword removal, model now performing decently. Will try again.  \n",
        "**Sixth attempt:** hyperparameter tuning using manual randomsearch and cross validation with stratified kfold. Will try to tune again.\n",
        "\n",
        "---"
      ]
    }
  ],
  "metadata": {
    "accelerator": "GPU",
    "colab": {
      "gpuType": "T4",
      "provenance": []
    },
    "kernelspec": {
      "display_name": ".venv",
      "language": "python",
      "name": "python3"
    },
    "language_info": {
      "codemirror_mode": {
        "name": "ipython",
        "version": 3
      },
      "file_extension": ".py",
      "mimetype": "text/x-python",
      "name": "python",
      "nbconvert_exporter": "python",
      "pygments_lexer": "ipython3",
      "version": "3.12.5"
    }
  },
  "nbformat": 4,
  "nbformat_minor": 5
}
