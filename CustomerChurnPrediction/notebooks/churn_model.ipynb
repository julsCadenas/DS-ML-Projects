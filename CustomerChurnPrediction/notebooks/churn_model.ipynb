{
 "cells": [
  {
   "cell_type": "markdown",
   "metadata": {},
   "source": [
    "# **Customer Churn Prediction**"
   ]
  },
  {
   "cell_type": "markdown",
   "metadata": {},
   "source": [
    "#### **What is customer churn?**  \n",
    "Customer churn refers to the percentage of customers who stop using a company's product or service within a given time frame. This metric helps businesses gauge customer satisfaction and loyalty while also providing insights into potential revenue fluctuations.\n",
    "\n",
    "Churn is especially critical for subscription-based businesses, such as SaaS companies, which rely on recurring revenue. Understanding churn patterns allows them to anticipate financial impact and take proactive measures.\n",
    "\n",
    "Also known as customer attrition, churn is the opposite of customer retention, which focuses on maintaining long-term customer relationships. Reducing churn should be a key part of any customer engagement strategy, ensuring consistent interactions between businesses and their customers, whether online or in person.\n",
    "\n",
    "A strong customer retention plan plays a crucial role in minimizing churn. Companies should track churn rates regularly to assess their risk of revenue loss and identify areas for improvement.\n",
    "\n",
    "<br>\n",
    "\n",
    "**Source:** IBM. Customer Churn. Retrieved from https://www.ibm.com/think/topics/customer-churn\n",
    "\n",
    "---"
   ]
  },
  {
   "cell_type": "markdown",
   "metadata": {},
   "source": [
    "Prepare the libraries."
   ]
  },
  {
   "cell_type": "code",
   "execution_count": 69,
   "metadata": {},
   "outputs": [],
   "source": [
    "import matplotlib.pyplot as plt\n",
    "import numpy as np\n",
    "import seaborn as sns\n",
    "import pandas as pd\n",
    "import shap\n",
    "\n",
    "from sklearn.metrics import classification_report, roc_auc_score\n",
    "from sklearn.pipeline import Pipeline\n",
    "from sklearn.compose import ColumnTransformer\n",
    "from sklearn.preprocessing import OneHotEncoder\n",
    "\n",
    "from xgboost import XGBClassifier\n",
    "from hyperopt import STATUS_OK, Trials, fmin, hp, tpe"
   ]
  },
  {
   "cell_type": "markdown",
   "metadata": {},
   "source": [
    "Prepare the dataset/s."
   ]
  },
  {
   "cell_type": "code",
   "execution_count": 70,
   "metadata": {},
   "outputs": [],
   "source": [
    "pd.pandas.set_option('display.max_columns',None)\n",
    "\n",
    "train_path = '../data/CustomerChurnDataset/customer_churn_dataset-testing-master.csv'\n",
    "test_path = '../data/CustomerChurnDataset/customer_churn_dataset-training-master.csv'\n",
    "\n",
    "train_df = pd.read_csv(train_path)\n",
    "test_df = pd.read_csv(test_path)"
   ]
  },
  {
   "cell_type": "markdown",
   "metadata": {},
   "source": [
    "Since we saw in our EDA that we only have 1 row of missing value/s from test_df lets drop that row.  \n",
    "Prepare the train and test datasets."
   ]
  },
  {
   "cell_type": "code",
   "execution_count": 71,
   "metadata": {},
   "outputs": [],
   "source": [
    "# drop missing values \n",
    "test_df.dropna(inplace=True)\n",
    "train_df.dropna(inplace=True)\n",
    "\n",
    "# drop customer id column\n",
    "train_df = train_df.drop(columns=['CustomerID'])\n",
    "test_df = test_df.drop(columns=['CustomerID'])\n",
    "\n",
    "y_train = train_df['Churn']\n",
    "x_train = train_df.drop(columns=['Churn'])\n",
    "\n",
    "y_test = test_df['Churn']\n",
    "x_test = test_df.drop(columns=['Churn'])"
   ]
  },
  {
   "cell_type": "markdown",
   "metadata": {},
   "source": [
    "Get the numerical and categorical features."
   ]
  },
  {
   "cell_type": "code",
   "execution_count": 72,
   "metadata": {},
   "outputs": [
    {
     "name": "stdout",
     "output_type": "stream",
     "text": [
      "['Gender', 'Subscription Type', 'Contract Length']\n",
      "['Age', 'Tenure', 'Usage Frequency', 'Support Calls', 'Payment Delay', 'Total Spend', 'Last Interaction']\n"
     ]
    }
   ],
   "source": [
    "categorical_features = x_train.select_dtypes(include=['object']).columns.tolist()\n",
    "numerical_features = x_train.select_dtypes(include=['int64','float64']).columns.tolist()\n",
    "\n",
    "print(categorical_features)\n",
    "print(numerical_features)"
   ]
  },
  {
   "cell_type": "markdown",
   "metadata": {},
   "source": [
    "Prepare the preprocessor for the pipeline."
   ]
  },
  {
   "cell_type": "code",
   "execution_count": 73,
   "metadata": {},
   "outputs": [],
   "source": [
    "preprocessor = ColumnTransformer([\n",
    "    ('encoder', OneHotEncoder(drop='first', handle_unknown='ignore'), categorical_features)\n",
    "], remainder='passthrough')"
   ]
  },
  {
   "cell_type": "markdown",
   "metadata": {},
   "source": [
    "Set up the hyperparameters for tuning."
   ]
  },
  {
   "cell_type": "code",
   "execution_count": 74,
   "metadata": {},
   "outputs": [],
   "source": [
    "params_space = {\n",
    "    'eta': hp.uniform('eta', 0.01,0.2),\n",
    "    'max_depth': hp.quniform(\"max_depth\", 3, 18, 1),\n",
    "    'gamma': hp.uniform ('gamma', 1,9),\n",
    "    'reg_alpha' : hp.quniform('reg_alpha', 40,180,1),\n",
    "    'reg_lambda' : hp.uniform('reg_lambda', 0,1),\n",
    "    'subsample': hp.uniform('subsample', 0.5,1),\n",
    "    'colsample_bytree' : hp.uniform('colsample_bytree', 0.5,1),\n",
    "    'min_child_weight' : hp.quniform('min_child_weight', 0, 10, 1),\n",
    "    'n_estimators': hp.quniform('n_estimators', 50, 1000, 10),\n",
    "    'seed': 0\n",
    "}\n",
    "\n",
    "def objective(params):\n",
    "    # convert the quniforms into int since they are float\n",
    "    params['max_depth'] = int(params['max_depth'])\n",
    "    params['n_estimators'] = int(params['n_estimators'])\n",
    "    params['min_child_weight'] = int(params['min_child_weight'])\n",
    "    params['reg_alpha'] = int(params['reg_alpha'])\n",
    "    \n",
    "    pipeline = Pipeline([\n",
    "        ('preprocessing', preprocessor),\n",
    "        ('classifier', XGBClassifier(**params, eval_metric=\"logloss\"))\n",
    "    ])\n",
    "\n",
    "    pipeline.fit(x_train, y_train)\n",
    "    y_pred = pipeline.predict(x_test)\n",
    "    auc = roc_auc_score(y_test, y_pred) \n",
    "    print(f\"Params: {params}, AUC-ROC: {auc:.4f}\")\n",
    "\n",
    "    return {'loss': -auc, 'status': STATUS_OK}"
   ]
  },
  {
   "cell_type": "markdown",
   "metadata": {},
   "source": [
    "Run the hyperparameter tuning.\n"
   ]
  },
  {
   "cell_type": "code",
   "execution_count": 75,
   "metadata": {},
   "outputs": [
    {
     "name": "stdout",
     "output_type": "stream",
     "text": [
      "Params: {'colsample_bytree': 0.9630273106063283, 'eta': 0.1779679995060585, 'gamma': 1.1294052984814682, 'max_depth': 5, 'min_child_weight': 2, 'n_estimators': 60, 'reg_alpha': 178, 'reg_lambda': 0.7985953935209215, 'seed': 0, 'subsample': 0.5014491785435579}, AUC-ROC: 0.6338\n",
      "Params: {'colsample_bytree': 0.5099049671359164, 'eta': 0.01884491615219518, 'gamma': 5.060916966389359, 'max_depth': 7, 'min_child_weight': 9, 'n_estimators': 510, 'reg_alpha': 159, 'reg_lambda': 0.7907489672711489, 'seed': 0, 'subsample': 0.7824697222453074}, AUC-ROC: 0.6372\n",
      "Params: {'colsample_bytree': 0.5907841273937582, 'eta': 0.08145581683707065, 'gamma': 2.298952003920321, 'max_depth': 17, 'min_child_weight': 0, 'n_estimators': 650, 'reg_alpha': 178, 'reg_lambda': 0.36856517524184673, 'seed': 0, 'subsample': 0.6397142051677264}, AUC-ROC: 0.6362\n",
      "Params: {'colsample_bytree': 0.5813086486634221, 'eta': 0.12587983692993626, 'gamma': 1.866711592168687, 'max_depth': 14, 'min_child_weight': 1, 'n_estimators': 730, 'reg_alpha': 68, 'reg_lambda': 0.32539243992423583, 'seed': 0, 'subsample': 0.5824608531467376}, AUC-ROC: 0.6356\n",
      "Params: {'colsample_bytree': 0.73517018643854, 'eta': 0.13276268289625648, 'gamma': 1.2392259943388089, 'max_depth': 17, 'min_child_weight': 2, 'n_estimators': 280, 'reg_alpha': 178, 'reg_lambda': 0.8196688606163127, 'seed': 0, 'subsample': 0.5162941506469645}, AUC-ROC: 0.6342\n",
      "Params: {'colsample_bytree': 0.6894854370265172, 'eta': 0.08722991532412515, 'gamma': 8.365191170971123, 'max_depth': 15, 'min_child_weight': 3, 'n_estimators': 490, 'reg_alpha': 119, 'reg_lambda': 0.8877351652734377, 'seed': 0, 'subsample': 0.8491142446196537}, AUC-ROC: 0.6343\n",
      "Params: {'colsample_bytree': 0.6520050077585342, 'eta': 0.03265863172941981, 'gamma': 5.509597820681424, 'max_depth': 8, 'min_child_weight': 4, 'n_estimators': 850, 'reg_alpha': 126, 'reg_lambda': 0.41879014307888207, 'seed': 0, 'subsample': 0.6541300350816419}, AUC-ROC: 0.6354\n",
      "Params: {'colsample_bytree': 0.960944066998206, 'eta': 0.08307339976865868, 'gamma': 3.8149640882688747, 'max_depth': 12, 'min_child_weight': 7, 'n_estimators': 960, 'reg_alpha': 157, 'reg_lambda': 0.9675614413343744, 'seed': 0, 'subsample': 0.5220456472313093}, AUC-ROC: 0.6334\n",
      "Params: {'colsample_bytree': 0.543435576587852, 'eta': 0.13602450738574903, 'gamma': 8.911223343684869, 'max_depth': 5, 'min_child_weight': 4, 'n_estimators': 480, 'reg_alpha': 95, 'reg_lambda': 0.4380080444666721, 'seed': 0, 'subsample': 0.9106710685880404}, AUC-ROC: 0.6352\n",
      "Params: {'colsample_bytree': 0.6152470937355707, 'eta': 0.08181810325497622, 'gamma': 6.141348475929056, 'max_depth': 8, 'min_child_weight': 1, 'n_estimators': 540, 'reg_alpha': 63, 'reg_lambda': 0.9002055799953458, 'seed': 0, 'subsample': 0.7444275358882546}, AUC-ROC: 0.6353\n",
      "Params: {'colsample_bytree': 0.7948580490848287, 'eta': 0.04326809590241336, 'gamma': 8.884168507029027, 'max_depth': 4, 'min_child_weight': 2, 'n_estimators': 990, 'reg_alpha': 136, 'reg_lambda': 0.24053407720882236, 'seed': 0, 'subsample': 0.7757439112759399}, AUC-ROC: 0.6333\n",
      "Params: {'colsample_bytree': 0.8797868169940348, 'eta': 0.1856353395914648, 'gamma': 8.895840329537364, 'max_depth': 15, 'min_child_weight': 9, 'n_estimators': 580, 'reg_alpha': 165, 'reg_lambda': 0.8501182786314013, 'seed': 0, 'subsample': 0.5780389929470872}, AUC-ROC: 0.6347\n",
      "Params: {'colsample_bytree': 0.8422764054408891, 'eta': 0.17699974530620777, 'gamma': 1.7333219092626955, 'max_depth': 13, 'min_child_weight': 2, 'n_estimators': 800, 'reg_alpha': 64, 'reg_lambda': 0.45002799751504763, 'seed': 0, 'subsample': 0.6073542508235797}, AUC-ROC: 0.6319\n",
      "Params: {'colsample_bytree': 0.9412560502690261, 'eta': 0.020234404792026508, 'gamma': 3.371289391201029, 'max_depth': 10, 'min_child_weight': 9, 'n_estimators': 270, 'reg_alpha': 92, 'reg_lambda': 0.6850965281145855, 'seed': 0, 'subsample': 0.8316257116978472}, AUC-ROC: 0.6312\n",
      "Params: {'colsample_bytree': 0.5096595360700497, 'eta': 0.17294709802661024, 'gamma': 5.5701987215321545, 'max_depth': 10, 'min_child_weight': 0, 'n_estimators': 780, 'reg_alpha': 114, 'reg_lambda': 0.4857653419749207, 'seed': 0, 'subsample': 0.7986900200579687}, AUC-ROC: 0.6354\n",
      "Params: {'colsample_bytree': 0.9731322815288317, 'eta': 0.17174595600407572, 'gamma': 4.343600675273216, 'max_depth': 15, 'min_child_weight': 6, 'n_estimators': 330, 'reg_alpha': 151, 'reg_lambda': 0.26591828256325833, 'seed': 0, 'subsample': 0.8078300182738949}, AUC-ROC: 0.6330\n",
      "Params: {'colsample_bytree': 0.7097658861698366, 'eta': 0.04618437551238632, 'gamma': 7.469479867013663, 'max_depth': 5, 'min_child_weight': 8, 'n_estimators': 280, 'reg_alpha': 67, 'reg_lambda': 0.9314102595321178, 'seed': 0, 'subsample': 0.6558141335045671}, AUC-ROC: 0.6333\n",
      "Params: {'colsample_bytree': 0.998506666910362, 'eta': 0.07519258665889948, 'gamma': 8.033264929353606, 'max_depth': 16, 'min_child_weight': 5, 'n_estimators': 310, 'reg_alpha': 72, 'reg_lambda': 0.5637570609520818, 'seed': 0, 'subsample': 0.5500583527544449}, AUC-ROC: 0.6318\n",
      "Params: {'colsample_bytree': 0.8778075132900445, 'eta': 0.04979121376562612, 'gamma': 5.411995137939858, 'max_depth': 14, 'min_child_weight': 5, 'n_estimators': 380, 'reg_alpha': 67, 'reg_lambda': 0.26906257223438557, 'seed': 0, 'subsample': 0.6906799765609528}, AUC-ROC: 0.6313\n",
      "Params: {'colsample_bytree': 0.5384773081707588, 'eta': 0.194943604652549, 'gamma': 4.683530532935436, 'max_depth': 4, 'min_child_weight': 10, 'n_estimators': 160, 'reg_alpha': 95, 'reg_lambda': 0.07223131393997773, 'seed': 0, 'subsample': 0.6997220521190943}, AUC-ROC: 0.6353\n",
      "Params: {'colsample_bytree': 0.5087296999102757, 'eta': 0.015776607897445782, 'gamma': 2.814792264902418, 'max_depth': 7, 'min_child_weight': 7, 'n_estimators': 680, 'reg_alpha': 143, 'reg_lambda': 0.6237910679946795, 'seed': 0, 'subsample': 0.9746258754012144}, AUC-ROC: 0.6356\n",
      "Params: {'colsample_bytree': 0.6154289226777262, 'eta': 0.108791659666707, 'gamma': 6.764519350952968, 'max_depth': 7, 'min_child_weight': 9, 'n_estimators': 640, 'reg_alpha': 44, 'reg_lambda': 0.09315806834472146, 'seed': 0, 'subsample': 0.8896002491517963}, AUC-ROC: 0.6332\n",
      "Params: {'colsample_bytree': 0.5564436392832661, 'eta': 0.06507536869456243, 'gamma': 3.1083603045023085, 'max_depth': 18, 'min_child_weight': 7, 'n_estimators': 440, 'reg_alpha': 169, 'reg_lambda': 0.6964221159121544, 'seed': 0, 'subsample': 0.7384386053166132}, AUC-ROC: 0.6357\n",
      "Params: {'colsample_bytree': 0.6620409235863421, 'eta': 0.10722720701684584, 'gamma': 2.5089951397500787, 'max_depth': 11, 'min_child_weight': 10, 'n_estimators': 890, 'reg_alpha': 179, 'reg_lambda': 0.1489373701614246, 'seed': 0, 'subsample': 0.632762070033106}, AUC-ROC: 0.6366\n",
      "Params: {'colsample_bytree': 0.7873174739869402, 'eta': 0.10731194987519393, 'gamma': 3.983713459690753, 'max_depth': 11, 'min_child_weight': 10, 'n_estimators': 890, 'reg_alpha': 161, 'reg_lambda': 0.15374635262540556, 'seed': 0, 'subsample': 0.7118332311063832}, AUC-ROC: 0.6339\n",
      "Params: {'colsample_bytree': 0.6623888349633047, 'eta': 0.14698444986447248, 'gamma': 6.400758425493725, 'max_depth': 9, 'min_child_weight': 8, 'n_estimators': 570, 'reg_alpha': 136, 'reg_lambda': 0.00584232506889415, 'seed': 0, 'subsample': 0.9402824921634884}, AUC-ROC: 0.6351\n",
      "Params: {'colsample_bytree': 0.7586158460549564, 'eta': 0.09845946847492637, 'gamma': 4.94087829595593, 'max_depth': 12, 'min_child_weight': 10, 'n_estimators': 420, 'reg_alpha': 170, 'reg_lambda': 0.7374573680031171, 'seed': 0, 'subsample': 0.6226705238923618}, AUC-ROC: 0.6343\n",
      "Params: {'colsample_bytree': 0.632915176880959, 'eta': 0.15542511769539982, 'gamma': 7.352620708301922, 'max_depth': 7, 'min_child_weight': 8, 'n_estimators': 180, 'reg_alpha': 150, 'reg_lambda': 0.6145446696859329, 'seed': 0, 'subsample': 0.8552768171378383}, AUC-ROC: 0.6354\n",
      "Params: {'colsample_bytree': 0.5006189724947405, 'eta': 0.11870965701833264, 'gamma': 2.3515645178531934, 'max_depth': 6, 'min_child_weight': 9, 'n_estimators': 880, 'reg_alpha': 180, 'reg_lambda': 0.7656743910727187, 'seed': 0, 'subsample': 0.7676118301910106}, AUC-ROC: 0.6365\n",
      "Params: {'colsample_bytree': 0.675697186538991, 'eta': 0.061464534451517325, 'gamma': 3.678786256225198, 'max_depth': 9, 'min_child_weight': 6, 'n_estimators': 90, 'reg_alpha': 134, 'reg_lambda': 0.5472927275520909, 'seed': 0, 'subsample': 0.6784371764181814}, AUC-ROC: 0.6343\n",
      "Params: {'colsample_bytree': 0.5774071856699953, 'eta': 0.15581976426288527, 'gamma': 1.0619216747485134, 'max_depth': 11, 'min_child_weight': 10, 'n_estimators': 640, 'reg_alpha': 172, 'reg_lambda': 0.19432829071009072, 'seed': 0, 'subsample': 0.7294066148873546}, AUC-ROC: 0.6360\n",
      "Params: {'colsample_bytree': 0.7231864723452122, 'eta': 0.09995500485996944, 'gamma': 2.5017584564632296, 'max_depth': 9, 'min_child_weight': 8, 'n_estimators': 700, 'reg_alpha': 104, 'reg_lambda': 0.34867454153105537, 'seed': 0, 'subsample': 0.5619712990964836}, AUC-ROC: 0.6342\n",
      "Params: {'colsample_bytree': 0.759333553940494, 'eta': 0.06589060486246053, 'gamma': 4.551090241533937, 'max_depth': 3, 'min_child_weight': 6, 'n_estimators': 940, 'reg_alpha': 180, 'reg_lambda': 0.9843056482730627, 'seed': 0, 'subsample': 0.9895980142882363}, AUC-ROC: 0.6356\n",
      "Params: {'colsample_bytree': 0.5964355005844637, 'eta': 0.12145362241179028, 'gamma': 1.7245053542561486, 'max_depth': 12, 'min_child_weight': 9, 'n_estimators': 750, 'reg_alpha': 152, 'reg_lambda': 0.8013903190285161, 'seed': 0, 'subsample': 0.6159254360347372}, AUC-ROC: 0.6355\n",
      "Params: {'colsample_bytree': 0.827743142479876, 'eta': 0.029259889948174342, 'gamma': 5.992130803646646, 'max_depth': 6, 'min_child_weight': 10, 'n_estimators': 590, 'reg_alpha': 122, 'reg_lambda': 0.023070067171903297, 'seed': 0, 'subsample': 0.6577344961073694}, AUC-ROC: 0.6334\n",
      "Params: {'colsample_bytree': 0.6921469454207856, 'eta': 0.0932924152719114, 'gamma': 4.035381170816973, 'max_depth': 8, 'min_child_weight': 4, 'n_estimators': 500, 'reg_alpha': 144, 'reg_lambda': 0.3919698989105946, 'seed': 0, 'subsample': 0.8692876135602852}, AUC-ROC: 0.6343\n",
      "Params: {'colsample_bytree': 0.6442030669920792, 'eta': 0.11097587894376294, 'gamma': 3.3924133681190494, 'max_depth': 13, 'min_child_weight': 7, 'n_estimators': 390, 'reg_alpha': 160, 'reg_lambda': 0.31663688026947445, 'seed': 0, 'subsample': 0.8155373445558332}, AUC-ROC: 0.6359\n",
      "Params: {'colsample_bytree': 0.5267806407469066, 'eta': 0.13863660131436958, 'gamma': 5.1313680091956115, 'max_depth': 3, 'min_child_weight': 3, 'n_estimators': 820, 'reg_alpha': 129, 'reg_lambda': 0.5278772146132773, 'seed': 0, 'subsample': 0.5134744242384297}, AUC-ROC: 0.6382\n",
      "Params: {'colsample_bytree': 0.5266950352378089, 'eta': 0.13510057531200603, 'gamma': 6.9018327851193515, 'max_depth': 3, 'min_child_weight': 3, 'n_estimators': 810, 'reg_alpha': 107, 'reg_lambda': 0.645366037893813, 'seed': 0, 'subsample': 0.5080600823272936}, AUC-ROC: 0.6366\n",
      "Params: {'colsample_bytree': 0.5592520129992381, 'eta': 0.19773878786485183, 'gamma': 5.176136514546832, 'max_depth': 4, 'min_child_weight': 3, 'n_estimators': 220, 'reg_alpha': 127, 'reg_lambda': 0.5365041358555678, 'seed': 0, 'subsample': 0.9271921179548581}, AUC-ROC: 0.6354\n",
      "Params: {'colsample_bytree': 0.5883136246946464, 'eta': 0.14912682398671992, 'gamma': 5.830571796423388, 'max_depth': 6, 'min_child_weight': 1, 'n_estimators': 540, 'reg_alpha': 115, 'reg_lambda': 0.8404043918679143, 'seed': 0, 'subsample': 0.7763242939407982}, AUC-ROC: 0.6357\n",
      "Params: {'colsample_bytree': 0.5285736661620034, 'eta': 0.16348707633869328, 'gamma': 6.449274835493629, 'max_depth': 4, 'min_child_weight': 4, 'n_estimators': 730, 'reg_alpha': 100, 'reg_lambda': 0.4882609788991266, 'seed': 0, 'subsample': 0.5434615403340342}, AUC-ROC: 0.6372\n",
      "Params: {'colsample_bytree': 0.6150229091295077, 'eta': 0.1604746110039325, 'gamma': 7.582422269781178, 'max_depth': 4, 'min_child_weight': 4, 'n_estimators': 990, 'reg_alpha': 89, 'reg_lambda': 0.48101028932942336, 'seed': 0, 'subsample': 0.5234124953738327}, AUC-ROC: 0.6359\n",
      "Params: {'colsample_bytree': 0.5225330825361678, 'eta': 0.18640925645630213, 'gamma': 8.282287020536847, 'max_depth': 5, 'min_child_weight': 1, 'n_estimators': 960, 'reg_alpha': 84, 'reg_lambda': 0.5791050129206974, 'seed': 0, 'subsample': 0.5887294097780914}, AUC-ROC: 0.6368\n",
      "Params: {'colsample_bytree': 0.9121578695048265, 'eta': 0.16539849385925873, 'gamma': 6.862025225465475, 'max_depth': 3, 'min_child_weight': 3, 'n_estimators': 730, 'reg_alpha': 40, 'reg_lambda': 0.40067276500209303, 'seed': 0, 'subsample': 0.5359811794251526}, AUC-ROC: 0.6343\n",
      "Params: {'colsample_bytree': 0.5639290118694033, 'eta': 0.1435060923340672, 'gamma': 4.9059269345216485, 'max_depth': 5, 'min_child_weight': 2, 'n_estimators': 840, 'reg_alpha': 50, 'reg_lambda': 0.5092252042520556, 'seed': 0, 'subsample': 0.5026411763804624}, AUC-ROC: 0.6359\n",
      "Params: {'colsample_bytree': 0.704103059402985, 'eta': 0.18857782332267747, 'gamma': 6.236724201149636, 'max_depth': 3, 'min_child_weight': 5, 'n_estimators': 920, 'reg_alpha': 80, 'reg_lambda': 0.31374467924330035, 'seed': 0, 'subsample': 0.5819884918440232}, AUC-ROC: 0.6353\n",
      "Params: {'colsample_bytree': 0.6291708914899885, 'eta': 0.12708394145790367, 'gamma': 7.769702568721939, 'max_depth': 6, 'min_child_weight': 0, 'n_estimators': 610, 'reg_alpha': 103, 'reg_lambda': 0.4392487812750146, 'seed': 0, 'subsample': 0.5515748325382506}, AUC-ROC: 0.6354\n",
      "Params: {'colsample_bytree': 0.7391340170156531, 'eta': 0.16818238726660337, 'gamma': 6.515296678525077, 'max_depth': 8, 'min_child_weight': 4, 'n_estimators': 770, 'reg_alpha': 98, 'reg_lambda': 0.6793906195171624, 'seed': 0, 'subsample': 0.6003013713214419}, AUC-ROC: 0.6343\n",
      "Params: {'colsample_bytree': 0.7838075007742052, 'eta': 0.17925579065316652, 'gamma': 8.503476112742774, 'max_depth': 4, 'min_child_weight': 0, 'n_estimators': 830, 'reg_alpha': 58, 'reg_lambda': 0.7507943016313305, 'seed': 0, 'subsample': 0.5639450146338831}, AUC-ROC: 0.6342\n",
      "Params: {'colsample_bytree': 0.5444217144786536, 'eta': 0.14301255938178167, 'gamma': 7.276317737061327, 'max_depth': 5, 'min_child_weight': 2, 'n_estimators': 680, 'reg_alpha': 80, 'reg_lambda': 0.4682220433108206, 'seed': 0, 'subsample': 0.6737893346038658}, AUC-ROC: 0.6358\n",
      "Params: {'colsample_bytree': 0.8161157635316092, 'eta': 0.12665553418068184, 'gamma': 5.168047966408532, 'max_depth': 18, 'min_child_weight': 3, 'n_estimators': 460, 'reg_alpha': 112, 'reg_lambda': 0.5998103286498815, 'seed': 0, 'subsample': 0.5230155319146663}, AUC-ROC: 0.6337\n",
      "Params: {'colsample_bytree': 0.5002370728969252, 'eta': 0.1159241923726412, 'gamma': 4.2762545767823985, 'max_depth': 3, 'min_child_weight': 5, 'n_estimators': 720, 'reg_alpha': 122, 'reg_lambda': 0.3572700877777272, 'seed': 0, 'subsample': 0.6382297718273735}, AUC-ROC: 0.6381\n",
      "Params: {'colsample_bytree': 0.605905051845407, 'eta': 0.11596329200770095, 'gamma': 4.269813391488045, 'max_depth': 16, 'min_child_weight': 6, 'n_estimators': 790, 'reg_alpha': 130, 'reg_lambda': 0.22149875955328752, 'seed': 0, 'subsample': 0.7179389026682576}, AUC-ROC: 0.6357\n",
      "Params: {'colsample_bytree': 0.8591984186943961, 'eta': 0.07484608382606958, 'gamma': 2.992374201435211, 'max_depth': 10, 'min_child_weight': 5, 'n_estimators': 690, 'reg_alpha': 122, 'reg_lambda': 0.28803486153346924, 'seed': 0, 'subsample': 0.6470731253045319}, AUC-ROC: 0.6336\n",
      "Params: {'colsample_bytree': 0.5731107574934401, 'eta': 0.0866540999410004, 'gamma': 5.55608331472394, 'max_depth': 3, 'min_child_weight': 6, 'n_estimators': 870, 'reg_alpha': 117, 'reg_lambda': 0.36645991164385777, 'seed': 0, 'subsample': 0.7614140006042625}, AUC-ROC: 0.6366\n",
      "Params: {'colsample_bytree': 0.9976258762844368, 'eta': 0.13245552058634902, 'gamma': 1.5371511194058338, 'max_depth': 7, 'min_child_weight': 1, 'n_estimators': 520, 'reg_alpha': 142, 'reg_lambda': 0.15784963155780563, 'seed': 0, 'subsample': 0.6050792913576842}, AUC-ROC: 0.6328\n",
      "Params: {'colsample_bytree': 0.5022756359950972, 'eta': 0.09494579725094784, 'gamma': 3.482218870515861, 'max_depth': 17, 'min_child_weight': 5, 'n_estimators': 920, 'reg_alpha': 108, 'reg_lambda': 0.9042244348442869, 'seed': 0, 'subsample': 0.6308245052246574}, AUC-ROC: 0.6358\n",
      "Params: {'colsample_bytree': 0.9244235385955643, 'eta': 0.07301957848600114, 'gamma': 4.578659576393779, 'max_depth': 7, 'min_child_weight': 3, 'n_estimators': 630, 'reg_alpha': 138, 'reg_lambda': 0.08324176348935264, 'seed': 0, 'subsample': 0.6653610689972363}, AUC-ROC: 0.6329\n",
      "Params: {'colsample_bytree': 0.6798638367604919, 'eta': 0.052264001948338856, 'gamma': 2.1841556520952756, 'max_depth': 5, 'min_child_weight': 4, 'n_estimators': 560, 'reg_alpha': 154, 'reg_lambda': 0.4190904770133343, 'seed': 0, 'subsample': 0.7918433362424646}, AUC-ROC: 0.6347\n",
      "Params: {'colsample_bytree': 0.5484387636362646, 'eta': 0.03956489368462497, 'gamma': 5.711406182342093, 'max_depth': 8, 'min_child_weight': 2, 'n_estimators': 340, 'reg_alpha': 147, 'reg_lambda': 0.5208687922270598, 'seed': 0, 'subsample': 0.692524380771933}, AUC-ROC: 0.6366\n",
      "Params: {'colsample_bytree': 0.5220072481359551, 'eta': 0.13834254031648605, 'gamma': 4.213612658473575, 'max_depth': 6, 'min_child_weight': 1, 'n_estimators': 760, 'reg_alpha': 132, 'reg_lambda': 0.6557366242640269, 'seed': 0, 'subsample': 0.5685413395410475}, AUC-ROC: 0.6364\n",
      "Params: {'colsample_bytree': 0.645307918481018, 'eta': 0.11475549924774174, 'gamma': 2.784381504651266, 'max_depth': 14, 'min_child_weight': 2, 'n_estimators': 670, 'reg_alpha': 126, 'reg_lambda': 0.7227757982757657, 'seed': 0, 'subsample': 0.50187430411173}, AUC-ROC: 0.6364\n",
      "Params: {'colsample_bytree': 0.5027221614026892, 'eta': 0.15044564331970448, 'gamma': 3.721330180002496, 'max_depth': 13, 'min_child_weight': 6, 'n_estimators': 970, 'reg_alpha': 164, 'reg_lambda': 0.22949386205363698, 'seed': 0, 'subsample': 0.7475892268504973}, AUC-ROC: 0.6370\n",
      "Params: {'colsample_bytree': 0.6251122784060423, 'eta': 0.08838885479454549, 'gamma': 5.353024100530939, 'max_depth': 9, 'min_child_weight': 7, 'n_estimators': 710, 'reg_alpha': 72, 'reg_lambda': 0.2859018476610581, 'seed': 0, 'subsample': 0.711943132297601}, AUC-ROC: 0.6351\n",
      "Params: {'colsample_bytree': 0.5375264237728523, 'eta': 0.17898358486407717, 'gamma': 4.881029923219901, 'max_depth': 4, 'min_child_weight': 4, 'n_estimators': 730, 'reg_alpha': 100, 'reg_lambda': 0.34777012987400835, 'seed': 0, 'subsample': 0.5411681850511062}, AUC-ROC: 0.6364\n",
      "Params: {'colsample_bytree': 0.5948795530711157, 'eta': 0.16359801646292405, 'gamma': 5.917192187732258, 'max_depth': 3, 'min_child_weight': 4, 'n_estimators': 810, 'reg_alpha': 120, 'reg_lambda': 0.5624702065211379, 'seed': 0, 'subsample': 0.5948702219839749}, AUC-ROC: 0.6362\n",
      "Params: {'colsample_bytree': 0.5247974573746828, 'eta': 0.15731277341867933, 'gamma': 6.345079280704797, 'max_depth': 4, 'min_child_weight': 5, 'n_estimators': 830, 'reg_alpha': 139, 'reg_lambda': 0.4722912339862697, 'seed': 0, 'subsample': 0.5346329791162285}, AUC-ROC: 0.6414\n",
      "Params: {'colsample_bytree': 0.5714213675001875, 'eta': 0.10319736087893172, 'gamma': 4.48026271422054, 'max_depth': 6, 'min_child_weight': 5, 'n_estimators': 910, 'reg_alpha': 140, 'reg_lambda': 0.4540740389917596, 'seed': 0, 'subsample': 0.641895411828267}, AUC-ROC: 0.6362\n",
      "Params: {'colsample_bytree': 0.5841154748836587, 'eta': 0.1542939620530765, 'gamma': 7.19165234823042, 'max_depth': 4, 'min_child_weight': 5, 'n_estimators': 850, 'reg_alpha': 157, 'reg_lambda': 0.18671323219116728, 'seed': 0, 'subsample': 0.6220696376458213}, AUC-ROC: 0.6361\n",
      "Params: {'colsample_bytree': 0.6589987818016927, 'eta': 0.17199610440725227, 'gamma': 4.754475516281351, 'max_depth': 3, 'min_child_weight': 6, 'n_estimators': 610, 'reg_alpha': 175, 'reg_lambda': 0.42402363682870403, 'seed': 0, 'subsample': 0.5740854805265209}, AUC-ROC: 0.6402\n",
      "Params: {'colsample_bytree': 0.6609176007782477, 'eta': 0.19068030557774976, 'gamma': 4.722886182464647, 'max_depth': 5, 'min_child_weight': 6, 'n_estimators': 600, 'reg_alpha': 147, 'reg_lambda': 0.5881124762547054, 'seed': 0, 'subsample': 0.5188684254787491}, AUC-ROC: 0.6404\n",
      "Params: {'colsample_bytree': 0.720966596334099, 'eta': 0.19677125343943855, 'gamma': 6.106960919738454, 'max_depth': 5, 'min_child_weight': 7, 'n_estimators': 410, 'reg_alpha': 174, 'reg_lambda': 0.5989718131312837, 'seed': 0, 'subsample': 0.5308618011140759}, AUC-ROC: 0.6352\n",
      "Params: {'colsample_bytree': 0.6613278433519212, 'eta': 0.19083217588663215, 'gamma': 4.769404837618611, 'max_depth': 7, 'min_child_weight': 8, 'n_estimators': 480, 'reg_alpha': 167, 'reg_lambda': 0.40044702029815393, 'seed': 0, 'subsample': 0.5691283944331805}, AUC-ROC: 0.6423\n",
      "Params: {'colsample_bytree': 0.74516489302152, 'eta': 0.17991639467727727, 'gamma': 7.027786507393149, 'max_depth': 8, 'min_child_weight': 8, 'n_estimators': 480, 'reg_alpha': 165, 'reg_lambda': 0.7850685744386359, 'seed': 0, 'subsample': 0.5585203011999109}, AUC-ROC: 0.6344\n",
      "Params: {'colsample_bytree': 0.6905717331264917, 'eta': 0.19238985923877902, 'gamma': 3.9737932750327136, 'max_depth': 9, 'min_child_weight': 8, 'n_estimators': 260, 'reg_alpha': 147, 'reg_lambda': 0.39903702619179793, 'seed': 0, 'subsample': 0.5026628781751791}, AUC-ROC: 0.6343\n",
      "Params: {'colsample_bytree': 0.7685277088250915, 'eta': 0.1996306107307268, 'gamma': 5.377540419994718, 'max_depth': 10, 'min_child_weight': 9, 'n_estimators': 90, 'reg_alpha': 155, 'reg_lambda': 0.7173856562157145, 'seed': 0, 'subsample': 0.5215346182380474}, AUC-ROC: 0.6343\n",
      "Params: {'colsample_bytree': 0.7759918145782324, 'eta': 0.18961505890485478, 'gamma': 6.715004321201558, 'max_depth': 6, 'min_child_weight': 7, 'n_estimators': 310, 'reg_alpha': 170, 'reg_lambda': 0.6344621955763177, 'seed': 0, 'subsample': 0.6127135801923189}, AUC-ROC: 0.6340\n",
      "Params: {'colsample_bytree': 0.6730441388322802, 'eta': 0.17374343864813555, 'gamma': 7.76807439719756, 'max_depth': 7, 'min_child_weight': 8, 'n_estimators': 440, 'reg_alpha': 162, 'reg_lambda': 0.8660017581777291, 'seed': 0, 'subsample': 0.5850438988707878}, AUC-ROC: 0.6342\n",
      "Params: {'colsample_bytree': 0.8037820065416942, 'eta': 0.18231603474830999, 'gamma': 3.5322103036931876, 'max_depth': 5, 'min_child_weight': 7, 'n_estimators': 560, 'reg_alpha': 149, 'reg_lambda': 0.5023725797423724, 'seed': 0, 'subsample': 0.5498494700239058}, AUC-ROC: 0.6341\n",
      "Params: {'colsample_bytree': 0.7309265096574117, 'eta': 0.18445405112022956, 'gamma': 3.201529462785242, 'max_depth': 7, 'min_child_weight': 6, 'n_estimators': 370, 'reg_alpha': 167, 'reg_lambda': 0.12153940880804132, 'seed': 0, 'subsample': 0.8235759521001601}, AUC-ROC: 0.6344\n",
      "Params: {'colsample_bytree': 0.714459595702367, 'eta': 0.19996695235494788, 'gamma': 6.368988579952479, 'max_depth': 8, 'min_child_weight': 9, 'n_estimators': 540, 'reg_alpha': 176, 'reg_lambda': 0.6693071195453093, 'seed': 0, 'subsample': 0.955748307218498}, AUC-ROC: 0.6346\n",
      "Params: {'colsample_bytree': 0.7041611075504444, 'eta': 0.159375720027135, 'gamma': 3.916557412543062, 'max_depth': 6, 'min_child_weight': 6, 'n_estimators': 660, 'reg_alpha': 138, 'reg_lambda': 0.5707509280191732, 'seed': 0, 'subsample': 0.5323356366103342}, AUC-ROC: 0.6344\n",
      "Params: {'colsample_bytree': 0.6037260535644325, 'eta': 0.19368986811818545, 'gamma': 6.5651047026342395, 'max_depth': 5, 'min_child_weight': 7, 'n_estimators': 500, 'reg_alpha': 134, 'reg_lambda': 0.3245545525108071, 'seed': 0, 'subsample': 0.9002145599102089}, AUC-ROC: 0.6357\n",
      "Params: {'colsample_bytree': 0.8530860291069425, 'eta': 0.1679459069498125, 'gamma': 5.661805291057819, 'max_depth': 4, 'min_child_weight': 8, 'n_estimators': 350, 'reg_alpha': 159, 'reg_lambda': 0.3785733907264387, 'seed': 0, 'subsample': 0.8430494514182312}, AUC-ROC: 0.6333\n",
      "Params: {'colsample_bytree': 0.641134128805559, 'eta': 0.13062634580741894, 'gamma': 6.1445357777866345, 'max_depth': 9, 'min_child_weight': 9, 'n_estimators': 250, 'reg_alpha': 144, 'reg_lambda': 0.46211289418976376, 'seed': 0, 'subsample': 0.5149957011107383}, AUC-ROC: 0.6367\n",
      "Params: {'colsample_bytree': 0.8901148922101324, 'eta': 0.17540932573646034, 'gamma': 5.782898554571372, 'max_depth': 11, 'min_child_weight': 6, 'n_estimators': 590, 'reg_alpha': 152, 'reg_lambda': 0.03765662242891865, 'seed': 0, 'subsample': 0.6837643914535005}, AUC-ROC: 0.6337\n",
      "Params: {'colsample_bytree': 0.7575656322858404, 'eta': 0.14384326929859287, 'gamma': 5.050993137077781, 'max_depth': 7, 'min_child_weight': 7, 'n_estimators': 460, 'reg_alpha': 157, 'reg_lambda': 0.25560183724706287, 'seed': 0, 'subsample': 0.6615853260140498}, AUC-ROC: 0.6340\n",
      "Params: {'colsample_bytree': 0.8305289928780126, 'eta': 0.15287990987871794, 'gamma': 8.571686098024777, 'max_depth': 8, 'min_child_weight': 10, 'n_estimators': 170, 'reg_alpha': 126, 'reg_lambda': 0.6938814445049766, 'seed': 0, 'subsample': 0.5970128731906931}, AUC-ROC: 0.6338\n",
      "Params: {'colsample_bytree': 0.6663971522354778, 'eta': 0.1595785181934696, 'gamma': 4.44452997245914, 'max_depth': 10, 'min_child_weight': 5, 'n_estimators': 230, 'reg_alpha': 147, 'reg_lambda': 0.9552740354258045, 'seed': 0, 'subsample': 0.5747192539652488}, AUC-ROC: 0.6381\n",
      "Params: {'colsample_bytree': 0.682779121997602, 'eta': 0.17052051894452466, 'gamma': 8.05670227692778, 'max_depth': 12, 'min_child_weight': 6, 'n_estimators': 620, 'reg_alpha': 168, 'reg_lambda': 0.6065384090859085, 'seed': 0, 'subsample': 0.701367452925304}, AUC-ROC: 0.6344\n",
      "Params: {'colsample_bytree': 0.6192660593465225, 'eta': 0.1894752253862548, 'gamma': 4.767003788311557, 'max_depth': 6, 'min_child_weight': 8, 'n_estimators': 130, 'reg_alpha': 162, 'reg_lambda': 0.5424470036926851, 'seed': 0, 'subsample': 0.6227999382531856}, AUC-ROC: 0.6371\n",
      "Params: {'colsample_bytree': 0.6986436605133248, 'eta': 0.12040082128224065, 'gamma': 4.107997665580184, 'max_depth': 4, 'min_child_weight': 7, 'n_estimators': 300, 'reg_alpha': 141, 'reg_lambda': 0.8115264185531299, 'seed': 0, 'subsample': 0.7358968483006003}, AUC-ROC: 0.6341\n",
      "Params: {'colsample_bytree': 0.6490300729256973, 'eta': 0.19421156464036632, 'gamma': 2.0934897825066825, 'max_depth': 5, 'min_child_weight': 5, 'n_estimators': 420, 'reg_alpha': 112, 'reg_lambda': 0.7688323732589117, 'seed': 0, 'subsample': 0.5511978947656246}, AUC-ROC: 0.6356\n",
      "Params: {'colsample_bytree': 0.6317475262659048, 'eta': 0.18205265062135986, 'gamma': 2.8513466063763264, 'max_depth': 7, 'min_child_weight': 9, 'n_estimators': 530, 'reg_alpha': 177, 'reg_lambda': 0.4858889247824954, 'seed': 0, 'subsample': 0.6484977923933565}, AUC-ROC: 0.6371\n",
      "Params: {'colsample_bytree': 0.7978297975727976, 'eta': 0.14815836858447368, 'gamma': 1.272350322983173, 'max_depth': 4, 'min_child_weight': 8, 'n_estimators': 400, 'reg_alpha': 172, 'reg_lambda': 0.2897534093083549, 'seed': 0, 'subsample': 0.5620221864069068}, AUC-ROC: 0.6335\n",
      "Params: {'colsample_bytree': 0.6088859580265015, 'eta': 0.1868777872325743, 'gamma': 5.294537480774762, 'max_depth': 3, 'min_child_weight': 4, 'n_estimators': 650, 'reg_alpha': 133, 'reg_lambda': 0.3360521850873856, 'seed': 0, 'subsample': 0.8809010536677856}, AUC-ROC: 0.6381\n",
      "Params: {'colsample_bytree': 0.5581524961149122, 'eta': 0.17591274482759334, 'gamma': 5.512752834119704, 'max_depth': 9, 'min_child_weight': 6, 'n_estimators': 360, 'reg_alpha': 137, 'reg_lambda': 0.5809637635267931, 'seed': 0, 'subsample': 0.5148425464696145}, AUC-ROC: 0.6389\n",
      "Params: {'colsample_bytree': 0.6598315911514487, 'eta': 0.158009610354482, 'gamma': 3.231282160180694, 'max_depth': 6, 'min_child_weight': 10, 'n_estimators': 750, 'reg_alpha': 155, 'reg_lambda': 0.44032103003621975, 'seed': 0, 'subsample': 0.6110451477232861}, AUC-ROC: 0.6355\n",
      "Params: {'colsample_bytree': 0.727082262834295, 'eta': 0.12433694763929737, 'gamma': 7.585069944653558, 'max_depth': 5, 'min_child_weight': 7, 'n_estimators': 860, 'reg_alpha': 91, 'reg_lambda': 0.5198359121814542, 'seed': 0, 'subsample': 0.6722880890421512}, AUC-ROC: 0.6348\n",
      "100%|██████████| 100/100 [03:38<00:00,  2.19s/trial, best loss: -0.6423035135790226]\n",
      "\n",
      "✅ Best Hyperparameters Found: {'colsample_bytree': np.float64(0.6613278433519212), 'eta': np.float64(0.19083217588663215), 'gamma': np.float64(4.769404837618611), 'max_depth': np.float64(7.0), 'min_child_weight': np.float64(8.0), 'n_estimators': np.float64(480.0), 'reg_alpha': np.float64(167.0), 'reg_lambda': np.float64(0.40044702029815393), 'subsample': np.float64(0.5691283944331805)}\n"
     ]
    }
   ],
   "source": [
    "trials = Trials()\n",
    "\n",
    "best_params = fmin(\n",
    "    fn = objective,\n",
    "    space = params_space,\n",
    "    algo = tpe.suggest,\n",
    "    max_evals = 100,\n",
    "    trials = trials\n",
    ")\n",
    "\n",
    "print(\"\\n✅ Best Hyperparameters Found:\", best_params)"
   ]
  },
  {
   "cell_type": "markdown",
   "metadata": {},
   "source": [
    "Get the best hyperparameters.\n"
   ]
  },
  {
   "cell_type": "code",
   "execution_count": 76,
   "metadata": {},
   "outputs": [],
   "source": [
    "int_params = {\"max_depth\", \"n_estimators\", \"min_child_weight\", \"reg_alpha\"}\n",
    "\n",
    "def convert_params(params):\n",
    "    return {k: int(v) if k in int_params else float(v) for k, v in params.items()}\n",
    "\n",
    "best_params = convert_params(best_params)"
   ]
  },
  {
   "cell_type": "markdown",
   "metadata": {},
   "source": [
    "Create the pipeline."
   ]
  },
  {
   "cell_type": "code",
   "execution_count": 77,
   "metadata": {},
   "outputs": [],
   "source": [
    "pipeline = Pipeline([\n",
    "    ('preprocessing', preprocessor),\n",
    "    ('classifier', XGBClassifier(**best_params))\n",
    "])"
   ]
  },
  {
   "cell_type": "markdown",
   "metadata": {},
   "source": [
    "Train the model and make predictions."
   ]
  },
  {
   "cell_type": "code",
   "execution_count": 78,
   "metadata": {},
   "outputs": [],
   "source": [
    "pipeline.fit(x_train, y_train)\n",
    "\n",
    "y_pred = pipeline.predict(x_test)\n",
    "y_proba = pipeline.predict_proba(x_test) "
   ]
  },
  {
   "cell_type": "markdown",
   "metadata": {},
   "source": [
    "Evaluate the model."
   ]
  },
  {
   "cell_type": "code",
   "execution_count": 79,
   "metadata": {},
   "outputs": [
    {
     "name": "stdout",
     "output_type": "stream",
     "text": [
      "XGBoost Classification Report:\n",
      "               precision    recall  f1-score   support\n",
      "\n",
      "         0.0       0.52      1.00      0.68    190833\n",
      "         1.0       1.00      0.29      0.44    249999\n",
      "\n",
      "    accuracy                           0.59    440832\n",
      "   macro avg       0.76      0.64      0.56    440832\n",
      "weighted avg       0.79      0.59      0.55    440832\n",
      "\n",
      "XGBoost AUC-ROC: 0.8696\n"
     ]
    }
   ],
   "source": [
    "def evaluate_model(test, pred, proba):\n",
    "    auc_roc = roc_auc_score(test, proba[:, 1]) \n",
    "    \n",
    "    print(\"XGBoost Classification Report:\\n\", classification_report(test, pred))\n",
    "    # print(\"XGBoost AUC-ROC:\", roc_auc_score(test, pred))\n",
    "    print(f\"XGBoost AUC-ROC: {auc_roc:.4f}\")\n",
    "    \n",
    "evaluate_model(y_test, y_pred, y_proba)"
   ]
  },
  {
   "cell_type": "code",
   "execution_count": null,
   "metadata": {},
   "outputs": [],
   "source": []
  }
 ],
 "metadata": {
  "kernelspec": {
   "display_name": ".venv",
   "language": "python",
   "name": "python3"
  },
  "language_info": {
   "codemirror_mode": {
    "name": "ipython",
    "version": 3
   },
   "file_extension": ".py",
   "mimetype": "text/x-python",
   "name": "python",
   "nbconvert_exporter": "python",
   "pygments_lexer": "ipython3",
   "version": "3.12.5"
  }
 },
 "nbformat": 4,
 "nbformat_minor": 2
}
