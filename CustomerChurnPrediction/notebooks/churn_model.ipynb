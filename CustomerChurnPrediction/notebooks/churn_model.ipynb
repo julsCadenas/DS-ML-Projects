{
 "cells": [
  {
   "cell_type": "markdown",
   "metadata": {},
   "source": [
    "# **Customer Churn Prediction**"
   ]
  },
  {
   "cell_type": "markdown",
   "metadata": {},
   "source": [
    "#### **What is customer churn?**  \n",
    "Customer churn refers to the percentage of customers who stop using a company's product or service within a given time frame. This metric helps businesses gauge customer satisfaction and loyalty while also providing insights into potential revenue fluctuations.\n",
    "\n",
    "Churn is especially critical for subscription-based businesses, such as SaaS companies, which rely on recurring revenue. Understanding churn patterns allows them to anticipate financial impact and take proactive measures.\n",
    "\n",
    "Also known as customer attrition, churn is the opposite of customer retention, which focuses on maintaining long-term customer relationships. Reducing churn should be a key part of any customer engagement strategy, ensuring consistent interactions between businesses and their customers, whether online or in person.\n",
    "\n",
    "A strong customer retention plan plays a crucial role in minimizing churn. Companies should track churn rates regularly to assess their risk of revenue loss and identify areas for improvement.\n",
    "\n",
    "<br>\n",
    "\n",
    "**Source:** IBM. Customer Churn. Retrieved from https://www.ibm.com/think/topics/customer-churn\n",
    "\n",
    "---"
   ]
  },
  {
   "cell_type": "markdown",
   "metadata": {},
   "source": [
    "Prepare the libraries."
   ]
  },
  {
   "cell_type": "code",
   "execution_count": 204,
   "metadata": {},
   "outputs": [],
   "source": [
    "import matplotlib.pyplot as plt\n",
    "import numpy as np\n",
    "import seaborn as sns\n",
    "import pandas as pd\n",
    "\n",
    "from sklearn.metrics import classification_report, roc_auc_score, accuracy_score, precision_score, recall_score, f1_score\n",
    "from sklearn.pipeline import Pipeline\n",
    "from sklearn.compose import ColumnTransformer\n",
    "from sklearn.impute import SimpleImputer\n",
    "from sklearn.preprocessing import OneHotEncoder\n",
    "\n",
    "from xgboost import XGBClassifier\n",
    "from hyperopt import STATUS_OK, Trials, fmin, hp, tpe"
   ]
  },
  {
   "cell_type": "markdown",
   "metadata": {},
   "source": [
    "Prepare the dataset/s."
   ]
  },
  {
   "cell_type": "code",
   "execution_count": 205,
   "metadata": {},
   "outputs": [],
   "source": [
    "pd.pandas.set_option('display.max_columns',None)\n",
    "\n",
    "train_path = '../data/CustomerChurnDataset/customer_churn_dataset-testing-master.csv'\n",
    "test_path = '../data/CustomerChurnDataset/customer_churn_dataset-training-master.csv'\n",
    "\n",
    "train_df = pd.read_csv(train_path)\n",
    "test_df = pd.read_csv(test_path)\n"
   ]
  },
  {
   "cell_type": "markdown",
   "metadata": {},
   "source": [
    "Since we saw in our EDA that we only have 1 row of missing value/s from test_df lets drop that row.  \n",
    "Prepare the train and test datasets."
   ]
  },
  {
   "cell_type": "code",
   "execution_count": 206,
   "metadata": {},
   "outputs": [],
   "source": [
    "test_df.dropna(inplace=True)\n",
    "\n",
    "y_train = train_df['Churn']\n",
    "x_train = train_df.drop(columns=['Churn'])\n",
    "\n",
    "y_test = test_df['Churn']\n",
    "x_test = test_df.drop(columns=['Churn'])"
   ]
  },
  {
   "cell_type": "markdown",
   "metadata": {},
   "source": [
    "Get the numerical and categorical features."
   ]
  },
  {
   "cell_type": "code",
   "execution_count": 207,
   "metadata": {},
   "outputs": [
    {
     "name": "stdout",
     "output_type": "stream",
     "text": [
      "['Gender', 'Subscription Type', 'Contract Length']\n",
      "['CustomerID', 'Age', 'Tenure', 'Usage Frequency', 'Support Calls', 'Payment Delay', 'Total Spend', 'Last Interaction']\n"
     ]
    }
   ],
   "source": [
    "categorical_features = x_train.select_dtypes(include=['object']).columns.tolist()\n",
    "numerical_features = x_train.select_dtypes(include=['int64','float64']).columns.tolist()\n",
    "\n",
    "print(categorical_features)\n",
    "print(numerical_features)"
   ]
  },
  {
   "cell_type": "markdown",
   "metadata": {},
   "source": [
    "Set up the hyperparameters for tuning."
   ]
  },
  {
   "cell_type": "code",
   "execution_count": 208,
   "metadata": {},
   "outputs": [],
   "source": [
    "params = {\n",
    "    'eta': hp.uniform('eta', 0.01,0.2),\n",
    "    'max_depth': hp.quniform(\"max_depth\", 3, 18, 1),\n",
    "    'gamma': hp.uniform ('gamma', 1,9),\n",
    "    'reg_alpha' : hp.quniform('reg_alpha', 40,180,1),\n",
    "    'reg_lambda' : hp.uniform('reg_lambda', 0,1),\n",
    "    'subsample': hp.uniform('subsample', 0.5,1),\n",
    "    'colsample_bytree' : hp.uniform('colsample_bytree', 0.5,1),\n",
    "    'min_child_weight' : hp.quniform('min_child_weight', 0, 10, 1),\n",
    "    'n_estimators': 180,\n",
    "    'seed': 0\n",
    "}\n",
    "\n",
    "def objective(params):\n",
    "    clf = XGBClassifier(\n",
    "            n_estimators =params['n_estimators'], max_depth = int(params['max_depth']), gamma = params['gamma'],\n",
    "            reg_alpha = int(params['reg_alpha']),min_child_weight=int(params['min_child_weight']),\n",
    "            colsample_bytree=int(params['colsample_bytree']),\n",
    "            eval_metric = \"auc\"\n",
    "        )\n",
    "    \n",
    "    evaluation = [(x_train, y_train), (x_test, y_test)]\n",
    "\n",
    "    clf.fit(\n",
    "        x_train, y_train,\n",
    "        eval_set = evaluation\n",
    "    )\n",
    "    \n",
    "    pred = clf.predict(x_test)\n",
    "    accu =  accuracy_score(y_test, pred)\n",
    "    print(\"score:\", accu)\n",
    "    return {'loss': -accu, 'status': STATUS_OK}"
   ]
  },
  {
   "cell_type": "markdown",
   "metadata": {},
   "source": [
    "Run the hyperparameter tuning.\n"
   ]
  },
  {
   "cell_type": "markdown",
   "metadata": {},
   "source": [
    "Get the best hyperparameters.\n"
   ]
  },
  {
   "cell_type": "code",
   "execution_count": 209,
   "metadata": {},
   "outputs": [],
   "source": [
    "best_params = {\n",
    "    'colsample_bytree': float(0.5001232575360597),  \n",
    "    'gamma': float(8.994461243503393),  \n",
    "    'max_depth': int(8.0),  \n",
    "    'min_child_weight': int(2.0),  \n",
    "    'reg_alpha': int(47.0),  \n",
    "    'reg_lambda': float(0.9359503488467844),  \n",
    "    'n_estimators': 300,  \n",
    "    'learning_rate': 0.05\n",
    "}"
   ]
  },
  {
   "cell_type": "markdown",
   "metadata": {},
   "source": [
    "Prepare the preprocessor for the pipeline."
   ]
  },
  {
   "cell_type": "code",
   "execution_count": 210,
   "metadata": {},
   "outputs": [],
   "source": [
    "preprocessor = ColumnTransformer([\n",
    "    ('encoder', OneHotEncoder(drop='first', handle_unknown='ignore'), categorical_features)\n",
    "], remainder='passthrough')"
   ]
  },
  {
   "cell_type": "markdown",
   "metadata": {},
   "source": [
    "Create the pipeline."
   ]
  },
  {
   "cell_type": "code",
   "execution_count": 211,
   "metadata": {},
   "outputs": [],
   "source": [
    "pipeline = Pipeline([\n",
    "    ('preprocessing', preprocessor),\n",
    "    ('classifier', XGBClassifier(**best_params))\n",
    "])"
   ]
  },
  {
   "cell_type": "markdown",
   "metadata": {},
   "source": [
    "Train the model and make predictions."
   ]
  },
  {
   "cell_type": "code",
   "execution_count": 212,
   "metadata": {},
   "outputs": [],
   "source": [
    "pipeline.fit(x_train, y_train)\n",
    "\n",
    "y_pred = pipeline.predict(x_test)"
   ]
  },
  {
   "cell_type": "markdown",
   "metadata": {},
   "source": [
    "Evaluate the model."
   ]
  },
  {
   "cell_type": "code",
   "execution_count": 213,
   "metadata": {},
   "outputs": [
    {
     "name": "stdout",
     "output_type": "stream",
     "text": [
      "Final Model Accuracy: 0.7226\n",
      "XGBoost Classification Report:\n",
      "               precision    recall  f1-score   support\n",
      "\n",
      "         0.0       0.67      0.70      0.69    190833\n",
      "         1.0       0.77      0.74      0.75    249999\n",
      "\n",
      "    accuracy                           0.72    440832\n",
      "   macro avg       0.72      0.72      0.72    440832\n",
      "weighted avg       0.72      0.72      0.72    440832\n",
      "\n",
      "XGBoost AUC-ROC: 0.7203798613185366\n"
     ]
    }
   ],
   "source": [
    "accuracy = accuracy_score(y_test, y_pred)\n",
    "\n",
    "print(f\"Final Model Accuracy: {accuracy:.4f}\")\n",
    "print(\"XGBoost Classification Report:\\n\", classification_report(y_test, y_pred))\n",
    "print(\"XGBoost AUC-ROC:\", roc_auc_score(y_test, y_pred))"
   ]
  },
  {
   "cell_type": "code",
   "execution_count": null,
   "metadata": {},
   "outputs": [],
   "source": []
  }
 ],
 "metadata": {
  "kernelspec": {
   "display_name": ".venv",
   "language": "python",
   "name": "python3"
  },
  "language_info": {
   "codemirror_mode": {
    "name": "ipython",
    "version": 3
   },
   "file_extension": ".py",
   "mimetype": "text/x-python",
   "name": "python",
   "nbconvert_exporter": "python",
   "pygments_lexer": "ipython3",
   "version": "3.12.5"
  }
 },
 "nbformat": 4,
 "nbformat_minor": 2
}
