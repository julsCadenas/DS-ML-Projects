{
 "cells": [
  {
   "cell_type": "markdown",
   "id": "42a0676a-ba47-4e32-93f9-913bb233ed9c",
   "metadata": {},
   "source": [
    "![tower_bridge](../misc/tower_bridge.jpeg)\n",
    "\n",
    "As the climate changes, predicting the weather becomes ever more important for businesses. Since the weather depends on a lot of different factors, you will want to run a lot of experiments to determine what the best approach is to predict the weather. In this project, you will run experiments for different regression models predicting the mean temperature, using a combination of `sklearn` and `MLflow`.\n",
    "\n",
    "You will be working with data stored in `london_weather.csv`, which contains the following columns:\n",
    "- **date** - recorded date of measurement - (**int**)\n",
    "- **cloud_cover** - cloud cover measurement in oktas - (**float**)\n",
    "- **sunshine** - sunshine measurement in hours (hrs) - (**float**)\n",
    "- **global_radiation** - irradiance measurement in Watt per square meter (W/m2) - (**float**)\n",
    "- **max_temp** - maximum temperature recorded in degrees Celsius (°C) - (**float**)\n",
    "- **mean_temp** - mean temperature in degrees Celsius (°C) - (**float**)\n",
    "- **min_temp** - minimum temperature recorded in degrees Celsius (°C) - (**float**)\n",
    "- **precipitation** - precipitation measurement in millimeters (mm) - (**float**)\n",
    "- **pressure** - pressure measurement in Pascals (Pa) - (**float**)\n",
    "- **snow_depth** - snow depth measurement in centimeters (cm) - (**float**)"
   ]
  },
  {
   "cell_type": "code",
   "execution_count": 1,
   "id": "4ac85ad4-a7e9-43d0-9dae-b21026e32dfe",
   "metadata": {
    "executionCancelledAt": null,
    "executionTime": 4825,
    "lastExecutedAt": 1738061807936,
    "lastExecutedByKernel": "d7cc9245-27a6-4912-b3ee-2b54b32adde2",
    "lastScheduledRunId": null,
    "lastSuccessfullyExecutedCode": "# Run this cell to import the modules you require\nimport pandas as pd\nimport numpy as np\nimport mlflow\nimport mlflow.sklearn\nimport matplotlib.pyplot as plt\nimport seaborn as sns\nfrom sklearn.model_selection import train_test_split\nfrom sklearn.metrics import mean_squared_error\nfrom sklearn.impute import SimpleImputer\nfrom sklearn.preprocessing import StandardScaler\nfrom sklearn.linear_model import LinearRegression\nfrom sklearn.tree import DecisionTreeRegressor\nfrom sklearn.ensemble import RandomForestRegressor\n\n# Read in the data\nweather = pd.read_csv(\"london_weather.csv\")\n\n# Start coding here\n# Use as many cells as you like"
   },
   "outputs": [],
   "source": [
    "# Run this cell to import the modules you require\n",
    "import pandas as pd\n",
    "import numpy as np\n",
    "import mlflow\n",
    "import mlflow.sklearn\n",
    "import matplotlib.pyplot as plt\n",
    "import seaborn as sns\n",
    "from sklearn.model_selection import train_test_split\n",
    "from sklearn.metrics import mean_squared_error\n",
    "from sklearn.impute import SimpleImputer\n",
    "from sklearn.preprocessing import StandardScaler\n",
    "from sklearn.linear_model import LinearRegression\n",
    "from sklearn.tree import DecisionTreeRegressor\n",
    "from sklearn.ensemble import RandomForestRegressor\n",
    "\n",
    "# Read in the data\n",
    "weather = pd.read_csv(\"../data/london_weather.csv\")\n",
    "\n",
    "# Start coding here\n",
    "# Use as many cells as you like"
   ]
  },
  {
   "cell_type": "code",
   "execution_count": null,
   "id": "7fb56bd1",
   "metadata": {},
   "outputs": [],
   "source": []
  }
 ],
 "metadata": {
  "colab": {
   "name": "Welcome to DataCamp Workspaces.ipynb",
   "provenance": []
  },
  "kernelspec": {
   "display_name": ".venv",
   "language": "python",
   "name": "python3"
  },
  "language_info": {
   "codemirror_mode": {
    "name": "ipython",
    "version": 3
   },
   "file_extension": ".py",
   "mimetype": "text/x-python",
   "name": "python",
   "nbconvert_exporter": "python",
   "pygments_lexer": "ipython3",
   "version": "3.12.5"
  }
 },
 "nbformat": 4,
 "nbformat_minor": 5
}
